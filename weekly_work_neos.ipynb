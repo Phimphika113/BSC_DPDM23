{
  "nbformat": 4,
  "nbformat_minor": 0,
  "metadata": {
    "colab": {
      "provenance": [],
      "authorship_tag": "ABX9TyNEUl44ZHZ+T6OJWl9Dr4M5",
      "include_colab_link": true
    },
    "kernelspec": {
      "name": "python3",
      "display_name": "Python 3"
    },
    "language_info": {
      "name": "python"
    }
  },
  "cells": [
    {
      "cell_type": "markdown",
      "metadata": {
        "id": "view-in-github",
        "colab_type": "text"
      },
      "source": [
        "<a href=\"https://colab.research.google.com/github/Phimphika113/BSC_DPDM23/blob/main/weekly_work_neos.ipynb\" target=\"_parent\"><img src=\"https://colab.research.google.com/assets/colab-badge.svg\" alt=\"Open In Colab\"/></a>"
      ]
    },
    {
      "cell_type": "code",
      "source": [],
      "metadata": {
        "id": "TyBJwdwK_gmn"
      },
      "execution_count": 17,
      "outputs": []
    },
    {
      "cell_type": "code",
      "source": [
        "!pip install -q pyomo ## ติดตั้ง Pyomo\n",
        "from pyomo.environ import *\n",
        "from pyomo import environ as pe\n",
        "\n",
        "!sudo apt-get install  glpk-utils\n",
        "solver = pe.SolverFactory('glpk', executable='/user/bin/glpsol')"
      ],
      "metadata": {
        "colab": {
          "base_uri": "https://localhost:8080/"
        },
        "id": "4D0u3xtB_1Nt",
        "outputId": "c86a9cff-d334-4852-9450-d222d30c5d76"
      },
      "execution_count": 18,
      "outputs": [
        {
          "output_type": "stream",
          "name": "stdout",
          "text": [
            "Reading package lists... Done\n",
            "Building dependency tree... Done\n",
            "Reading state information... Done\n",
            "glpk-utils is already the newest version (5.0-1).\n",
            "0 upgraded, 0 newly installed, 0 to remove and 49 not upgraded.\n"
          ]
        },
        {
          "output_type": "stream",
          "name": "stderr",
          "text": [
            "WARNING:pyomo.opt:Failed to create solver with name '_glpk_shell':\n",
            "Failed to set executable for solver glpk. File with name=/user/bin/glpsol either does not exist or it is not executable. To skip this validation, call set_executable with validate=False.\n",
            "Traceback (most recent call last):\n",
            "  File \"/usr/local/lib/python3.10/dist-packages/pyomo/opt/base/solvers.py\", line 148, in __call__\n",
            "    opt = self._cls[_name](**kwds)\n",
            "  File \"/usr/local/lib/python3.10/dist-packages/pyomo/solvers/plugins/solvers/GLPK.py\", line 92, in __init__\n",
            "    SystemCallSolver.__init__(self, **kwargs)\n",
            "  File \"/usr/local/lib/python3.10/dist-packages/pyomo/opt/solver/shellcmd.py\", line 66, in __init__\n",
            "    self.set_executable(name=executable, validate=validate)\n",
            "  File \"/usr/local/lib/python3.10/dist-packages/pyomo/opt/solver/shellcmd.py\", line 115, in set_executable\n",
            "    raise ValueError(\n",
            "ValueError: Failed to set executable for solver glpk. File with name=/user/bin/glpsol either does not exist or it is not executable. To skip this validation, call set_executable with validate=False.\n"
          ]
        }
      ]
    },
    {
      "cell_type": "code",
      "execution_count": 19,
      "metadata": {
        "id": "2-MC3Tc8-mIh"
      },
      "outputs": [],
      "source": [
        "from pyomo.environ import *\n",
        "from pyomo.opt import SolverFactory"
      ]
    },
    {
      "cell_type": "code",
      "source": [
        "# Define days (1 week)\n",
        "days = ['Mon', 'Tue', 'Wed', 'Thu', 'Fri', 'Sat', 'Sun']\n",
        "\n",
        "# Enter shifts of each day\n",
        "shifts = ['morning', 'evening', 'night']  # 3 shifts of 8 hours\n",
        "days_shifts = {day: shifts for day in days}  # dict with day as key and list of its shifts as value\n",
        "\n",
        "# Enter workers ids (name, number, ...)\n",
        "workers = ['W' + str(i) for i in range(1, 11)]  # 10 workers available, more than needed\n"
      ],
      "metadata": {
        "id": "6M0JizYo-o8A"
      },
      "execution_count": 20,
      "outputs": []
    },
    {
      "cell_type": "code",
      "source": [
        "# Initialize model\n",
        "model = ConcreteModel()\n",
        "\n",
        "# binary variables representing if a worker is scheduled somewhere\n",
        "model.works = Var(((worker, day, shift) for worker in workers for day in days for shift in days_shifts[day]),\n",
        "                  within=Binary, initialize=0)\n",
        "\n",
        "# binary variables representing if a worker is necessary\n",
        "model.needed = Var(workers, within=Binary, initialize=0)\n",
        "\n",
        "# binary variables representing if a worker worked on sunday but not on saturday (avoid if possible)\n",
        "model.no_pref = Var(workers, within=Binary, initialize=0)"
      ],
      "metadata": {
        "id": "1L9X6SWK-rj-"
      },
      "execution_count": 21,
      "outputs": []
    },
    {
      "cell_type": "code",
      "source": [
        "# Define an objective function with model as input, to pass later\n",
        "def obj_rule(m):\n",
        "    c = len(workers)\n",
        "    return sum(m.no_pref[worker] for worker in workers) + sum(c * m.needed[worker] for worker in workers)\n",
        "# we multiply the second term by a constant to make sure that it is the primary objective\n",
        "# since sum(m.no_prefer) is at most len(workers), len(workers) + 1 is a valid constant.\n",
        "\n",
        "\n",
        "# add objective function to the model. rule (pass function) or expr (pass expression directly)\n",
        "model.obj = Objective(rule=obj_rule, sense=minimize)"
      ],
      "metadata": {
        "id": "kAI5r91Q-vdB"
      },
      "execution_count": 22,
      "outputs": []
    },
    {
      "cell_type": "code",
      "source": [
        "model.constraints = ConstraintList()  # Create a set of constraints\n",
        "\n",
        "# Constraint: all shifts are assigned\n",
        "for day in days:\n",
        "    for shift in days_shifts[day]:\n",
        "        if day in days[:-1] and shift in ['morning', 'evening']:\n",
        "            # weekdays' and Saturdays' day shifts have exactly two workers\n",
        "            model.constraints.add(  # to add a constraint to model.constraints set\n",
        "                2 == sum(model.works[worker, day, shift] for worker in workers)\n",
        "            )\n",
        "        else:\n",
        "            # Sundays' and nights' shifts have exactly one worker\n",
        "            model.constraints.add(\n",
        "                1 == sum(model.works[worker, day, shift] for worker in workers)\n",
        "            )\n",
        "\n",
        "# Constraint: no more than 40 hours worked\n",
        "for worker in workers:\n",
        "    model.constraints.add(\n",
        "        40 >= sum(8 * model.works[worker, day, shift] for day in days for shift in days_shifts[day])\n",
        "    )\n",
        "\n",
        "# Constraint: rest between two shifts is of 12 hours (i.e., at least two shifts)\n",
        "for worker in workers:\n",
        "    for j in range(len(days)):\n",
        "        # if working in morning, cannot work again that day\n",
        "        model.constraints.add(\n",
        "            1 >= sum(model.works[worker, days[j], shift] for shift in days_shifts[days[j]])\n",
        "        )\n",
        "        # if working in evening, until next evening (note that after sunday comes next monday)\n",
        "        model.constraints.add(\n",
        "            1 >= sum(model.works[worker, days[j], shift] for shift in ['evening', 'night']) +\n",
        "            model.works[worker, days[(j + 1) % 7], 'morning']\n",
        "        )\n",
        "        # if working in night, until next night\n",
        "        model.constraints.add(\n",
        "            1 >= model.works[worker, days[j], 'night'] +\n",
        "            sum(model.works[worker, days[(j + 1) % 7], shift] for shift in ['morning', 'evening'])\n",
        "        )\n",
        "\n",
        "# Constraint (def of model.needed)\n",
        "for worker in workers:\n",
        "    model.constraints.add(\n",
        "        10000 * model.needed[worker] >= sum(model.works[worker, day, shift] for day in days for shift in days_shifts[day])\n",
        "    )  # if any model.works[worker, ·, ·] non-zero, model.needed[worker] must be one; else is zero to reduce the obj function\n",
        "    # 10000 is to remark, but 5 was enough since max of 40 hours yields max of 5 shifts, the maximum possible sum\n",
        "\n",
        "# Constraint (def of model.no_pref)\n",
        "for worker in workers:\n",
        "    model.constraints.add(\n",
        "        model.no_pref[worker] >= sum(model.works[worker, 'Sat', shift] for shift in days_shifts['Sat'])\n",
        "        - sum(model.works[worker, 'Sun', shift] for shift in days_shifts['Sun'])\n",
        "    )  # if not working on sunday but working saturday model.needed must be 1; else will be zero to reduce the obj function"
      ],
      "metadata": {
        "id": "Lp6pRMW0-4kj",
        "colab": {
          "base_uri": "https://localhost:8080/"
        },
        "outputId": "357e85d4-f4fe-432d-b0c6-1d6ed78b3fd5"
      },
      "execution_count": 36,
      "outputs": [
        {
          "output_type": "stream",
          "name": "stderr",
          "text": [
            "WARNING:pyomo.core:Implicitly replacing the Component attribute constraints (type=<class 'pyomo.core.base.constraint.ConstraintList'>) on block unknown with a new Component (type=<class 'pyomo.core.base.constraint.ConstraintList'>).\n",
            "This is usually indicative of a modelling error.\n",
            "To avoid this warning, use block.del_component() and block.add_component().\n"
          ]
        }
      ]
    },
    {
      "cell_type": "code",
      "source": [
        "import os\n",
        "# Set the NEOS email address directly in the environment\n",
        "os.environ['NEOS_EMAIL'] = \"your_actual_email@example.com\"  # Replace with your actual email\n",
        "\n",
        "opt = SolverFactory('cbc')  # Select solver\n",
        "solver_manager = SolverManagerFactory('neos')  # Solve in neos server\n",
        "results = solver_manager.solve(model, opt=opt)"
      ],
      "metadata": {
        "id": "Dzfaalag_Eez"
      },
      "execution_count": 37,
      "outputs": []
    },
    {
      "cell_type": "code",
      "source": [
        "print(results)"
      ],
      "metadata": {
        "colab": {
          "base_uri": "https://localhost:8080/"
        },
        "id": "utCMdRoAL1EO",
        "outputId": "687c88ed-12cd-49fc-926e-ad58d37a98fd"
      },
      "execution_count": 38,
      "outputs": [
        {
          "output_type": "stream",
          "name": "stdout",
          "text": [
            "\n",
            "Problem: \n",
            "- Lower bound: -inf\n",
            "  Upper bound: inf\n",
            "  Number of objectives: 1\n",
            "  Number of constraints: 261\n",
            "  Number of variables: 230\n",
            "  Sense: unknown\n",
            "Solver: \n",
            "- Status: ok\n",
            "  Message: CBC 2.10.10 optimal, objective 72; 0 nodes, 88 iterations, 0.098926 seconds\n",
            "  Termination condition: optimal\n",
            "  Id: 0\n",
            "Solution: \n",
            "- number of solutions: 0\n",
            "  number of solutions displayed: 0\n",
            "\n"
          ]
        }
      ]
    },
    {
      "cell_type": "code",
      "source": [
        "def get_workers_needed(needed):\n",
        "    \"\"\"Extract to a list the needed workers for the optimal solution.\"\"\"\n",
        "    workers_needed = []\n",
        "    for worker in workers:\n",
        "        if needed[worker].value == 1:\n",
        "            workers_needed.append(worker)\n",
        "    return workers_needed\n",
        "\n",
        "\n",
        "def get_work_table(works):\n",
        "    \"\"\"Build a timetable of the week as a dictionary from the model's optimal solution.\"\"\"\n",
        "    week_table = {day: {shift: [] for shift in days_shifts[day]} for day in days}\n",
        "    for worker in workers:\n",
        "        for day in days:\n",
        "            for shift in days_shifts[day]:\n",
        "                    if works[worker, day, shift].value == 1:\n",
        "                        week_table[day][shift].append(worker)\n",
        "    return week_table\n",
        "\n",
        "\n",
        "def get_no_preference(no_pref):\n",
        "    \"\"\"Extract to a list the workers not satisfied with their weekend preference.\"\"\"\n",
        "    return [worker for worker in workers if no_pref[worker].value == 1]\n",
        "\n",
        "\n",
        "workers_needed = get_workers_needed(model.needed)  # dict with the optimal timetable\n",
        "week_table = get_work_table(model.works)  # list with the required workers\n",
        "workers_no_pref = get_no_preference(model.no_pref)  # list with the non-satisfied workers (work on Sat but not on Sun)\n"
      ],
      "metadata": {
        "id": "J3BGioRP_K2o"
      },
      "execution_count": 33,
      "outputs": []
    },
    {
      "cell_type": "code",
      "source": [
        "import json"
      ],
      "metadata": {
        "id": "2MZWmdf8PMPg"
      },
      "execution_count": 39,
      "outputs": []
    },
    {
      "cell_type": "code",
      "source": [
        "print('Workers needed:')\n",
        "[print('  ' + worker) for worker in workers_needed];"
      ],
      "metadata": {
        "colab": {
          "base_uri": "https://localhost:8080/"
        },
        "id": "v0foSEAzPPTf",
        "outputId": "abfc932c-1e8f-4421-ea99-6ffa01096151"
      },
      "execution_count": 40,
      "outputs": [
        {
          "output_type": "stream",
          "name": "stdout",
          "text": [
            "Workers needed:\n",
            "  W2\n",
            "  W3\n",
            "  W5\n",
            "  W7\n",
            "  W8\n",
            "  W9\n",
            "  W10\n"
          ]
        }
      ]
    },
    {
      "cell_type": "code",
      "source": [
        "print('Work schedule:')\n",
        "print(json.dumps(week_table, indent=2))"
      ],
      "metadata": {
        "colab": {
          "base_uri": "https://localhost:8080/"
        },
        "id": "gqndv7m0PX6i",
        "outputId": "307d4100-4b15-4ccb-be39-27a4dc35bf24"
      },
      "execution_count": 41,
      "outputs": [
        {
          "output_type": "stream",
          "name": "stdout",
          "text": [
            "Work schedule:\n",
            "{\n",
            "  \"Mon\": {\n",
            "    \"morning\": [\n",
            "      \"W3\",\n",
            "      \"W9\"\n",
            "    ],\n",
            "    \"evening\": [\n",
            "      \"W8\",\n",
            "      \"W10\"\n",
            "    ],\n",
            "    \"night\": [\n",
            "      \"W2\"\n",
            "    ]\n",
            "  },\n",
            "  \"Tue\": {\n",
            "    \"morning\": [\n",
            "      \"W3\",\n",
            "      \"W5\"\n",
            "    ],\n",
            "    \"evening\": [\n",
            "      \"W8\",\n",
            "      \"W10\"\n",
            "    ],\n",
            "    \"night\": [\n",
            "      \"W9\"\n",
            "    ]\n",
            "  },\n",
            "  \"Wed\": {\n",
            "    \"morning\": [\n",
            "      \"W5\",\n",
            "      \"W7\"\n",
            "    ],\n",
            "    \"evening\": [\n",
            "      \"W2\",\n",
            "      \"W10\"\n",
            "    ],\n",
            "    \"night\": [\n",
            "      \"W3\"\n",
            "    ]\n",
            "  },\n",
            "  \"Thu\": {\n",
            "    \"morning\": [\n",
            "      \"W7\",\n",
            "      \"W9\"\n",
            "    ],\n",
            "    \"evening\": [\n",
            "      \"W8\",\n",
            "      \"W10\"\n",
            "    ],\n",
            "    \"night\": [\n",
            "      \"W2\"\n",
            "    ]\n",
            "  },\n",
            "  \"Fri\": {\n",
            "    \"morning\": [\n",
            "      \"W7\",\n",
            "      \"W9\"\n",
            "    ],\n",
            "    \"evening\": [\n",
            "      \"W3\",\n",
            "      \"W10\"\n",
            "    ],\n",
            "    \"night\": [\n",
            "      \"W5\"\n",
            "    ]\n",
            "  },\n",
            "  \"Sat\": {\n",
            "    \"morning\": [\n",
            "      \"W2\",\n",
            "      \"W7\"\n",
            "    ],\n",
            "    \"evening\": [\n",
            "      \"W8\",\n",
            "      \"W9\"\n",
            "    ],\n",
            "    \"night\": [\n",
            "      \"W3\"\n",
            "    ]\n",
            "  },\n",
            "  \"Sun\": {\n",
            "    \"morning\": [\n",
            "      \"W7\"\n",
            "    ],\n",
            "    \"evening\": [\n",
            "      \"W8\"\n",
            "    ],\n",
            "    \"night\": [\n",
            "      \"W2\"\n",
            "    ]\n",
            "  }\n",
            "}\n"
          ]
        }
      ]
    },
    {
      "cell_type": "code",
      "source": [
        "print('Workers not satisfied by weekend condition:')\n",
        "[print('  ' + worker) for worker in workers_no_pref];"
      ],
      "metadata": {
        "colab": {
          "base_uri": "https://localhost:8080/"
        },
        "id": "72AkuwUWPfr3",
        "outputId": "5a901e5a-8ab9-4a54-e541-e41302c7d241"
      },
      "execution_count": 42,
      "outputs": [
        {
          "output_type": "stream",
          "name": "stdout",
          "text": [
            "Workers not satisfied by weekend condition:\n",
            "  W3\n",
            "  W9\n"
          ]
        }
      ]
    },
    {
      "cell_type": "code",
      "source": [
        "print('Objective value:', model.obj())"
      ],
      "metadata": {
        "colab": {
          "base_uri": "https://localhost:8080/"
        },
        "id": "5zoKdAp9Piyr",
        "outputId": "c5ef9a97-472a-4172-9239-6426a7582385"
      },
      "execution_count": 43,
      "outputs": [
        {
          "output_type": "stream",
          "name": "stdout",
          "text": [
            "Objective value: 72.0\n"
          ]
        }
      ]
    }
  ]
}
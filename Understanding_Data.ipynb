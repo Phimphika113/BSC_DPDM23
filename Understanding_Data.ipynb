{
  "nbformat": 4,
  "nbformat_minor": 0,
  "metadata": {
    "colab": {
      "provenance": [],
      "toc_visible": true,
      "authorship_tag": "ABX9TyNMyLz2LIC0GTsAUFkHDuxw",
      "include_colab_link": true
    },
    "kernelspec": {
      "name": "python3",
      "display_name": "Python 3"
    },
    "language_info": {
      "name": "python"
    }
  },
  "cells": [
    {
      "cell_type": "markdown",
      "metadata": {
        "id": "view-in-github",
        "colab_type": "text"
      },
      "source": [
        "<a href=\"https://colab.research.google.com/github/Phimphika113/BSC_DPDM23/blob/main/Understanding_Data.ipynb\" target=\"_parent\"><img src=\"https://colab.research.google.com/assets/colab-badge.svg\" alt=\"Open In Colab\"/></a>"
      ]
    },
    {
      "cell_type": "markdown",
      "source": [
        "#Load data"
      ],
      "metadata": {
        "id": "p83EDKjhBhpC"
      }
    },
    {
      "cell_type": "code",
      "source": [
        "import pandas as pd"
      ],
      "metadata": {
        "id": "a9-jm6DfEoB5"
      },
      "execution_count": 4,
      "outputs": []
    },
    {
      "cell_type": "markdown",
      "source": [
        "##Load Excel data from GGdrive"
      ],
      "metadata": {
        "id": "1jgBTYgpEWjO"
      }
    },
    {
      "cell_type": "code",
      "source": [
        "from google.colab import drive # เชื่อมบัญชีกับ google drive\n",
        "drive.mount('/content/drive') # เช็คว่าเชื่อมติดหรือไม่"
      ],
      "metadata": {
        "colab": {
          "base_uri": "https://localhost:8080/"
        },
        "id": "5ZJmjHqME-4U",
        "outputId": "fbd284bd-e05e-4585-84ac-f11696bd65d8"
      },
      "execution_count": 11,
      "outputs": [
        {
          "output_type": "stream",
          "name": "stdout",
          "text": [
            "Mounted at /content/drive\n"
          ]
        }
      ]
    },
    {
      "cell_type": "markdown",
      "source": [
        "##Load GSheets"
      ],
      "metadata": {
        "id": "j1Qx-dsOEk4u"
      }
    },
    {
      "cell_type": "markdown",
      "source": [
        "##ดึงจาก GDrive"
      ],
      "metadata": {
        "id": "LKOqXwh5MSf6"
      }
    },
    {
      "cell_type": "code",
      "source": [
        "data_from_gdrive = pd.read_excel('/content/drive/MyDrive/ปี 3/BSC_DPDM/2563.xls',header=2)\n",
        "data_from_gdrive"
      ],
      "metadata": {
        "colab": {
          "base_uri": "https://localhost:8080/",
          "height": 1000
        },
        "id": "W47HwgReFo9s",
        "outputId": "dd5d817a-baf8-44d4-f517-0ed777606201"
      },
      "execution_count": 12,
      "outputs": [
        {
          "output_type": "execute_result",
          "data": {
            "text/plain": [
              "    เลขที่คำขอ เลขที่บัตรส่งเสริม                        ชื่อบริษัทภาษาไทย  \\\n",
              "0       610707   62-0422-1-04-1-0  กรุงเทพ ไดอ์แคสซ์ติ้ง แอนด์ อินแจ๊กชั่น   \n",
              "1       620660   63-0107-1-00-1-0                        เจ้าพระยา คาร์บอน   \n",
              "2       610182   63-0101-1-00-1-0                        อาร์ต ออฟ เบคกิ้ง   \n",
              "3       620318   63-0080-1-00-0-0       เอ็นจีเค สปาร์คปลั๊กส์ (ประเทศไทย)   \n",
              "4       620185   63-0079-1-00-0-0       เอ็นจีเค สปาร์คปลั๊กส์ (ประเทศไทย)   \n",
              "..         ...                ...                                      ...   \n",
              "655    E630369   63-0669-1-00-0-0  อีเลคโทรลักซ์ โปรเฟสชั่นแนล (ประเทศไทย)   \n",
              "656    E630401   63-0682-1-00-1-0                            โกลว์ พลังงาน   \n",
              "657    E630277   63-0666-1-03-1-0         ยูนิค อุตสาหกรรมพลาสติก (แม่สอด)   \n",
              "658     610552   63-0676-1-00-1-0                   ไอชิน เอไอ (ประเทศไทย)   \n",
              "659    E630269   63-0668-1-00-1-0     เอ็มเอ็มซี อีเล็คโทรนิคส์ (ไทยแลนด์)   \n",
              "\n",
              "                                     สถานที่ตั้งโรงงาน  เบอร์โทรศัพท์  \\\n",
              "0    46/1,46/2 หมู่ที่ 12 ถนนบางพลี-บางนาตราด ต.บาง...  02-3373078-84   \n",
              "1            ต.เขาล้าน อ.ทับสะแก ประจวบคีรีขันธ์ 77130    081-8412110   \n",
              "2    111/21 หมู่ที่ 2 ต.ท่าจีน อ.เมือง สมุทรสาคร 74000     034-440157   \n",
              "3     700/864 หมู่ที่ 1 ต.พานทอง อ.พานทอง ชลบุรี 20160            NaN   \n",
              "4     700/864 หมู่ที่ 1 ต.พานทอง อ.พานทอง ชลบุรี 20160            NaN   \n",
              "..                                                 ...            ...   \n",
              "655  222 หมู่ที่ 11 ต.หนองละลอก อ.บ้านค่าย ระยอง 21120            NaN   \n",
              "656              60/5 ต.มาบยางพร อ.ปลวกแดง ระยอง 21140            NaN   \n",
              "657     269/11 หมู่ที่ 15 ต.แม่กาษา อ.แม่สอด ตาก 63110    064-9510202   \n",
              "658  80 หมู่ที่ 5 ถนนบางนา-ตราด ต.บางสมัคร อ.บางปะก...     038-570062   \n",
              "659  129/2 หมู่ที่ 17 ถนนเทพรัตน ต.บางเสาธง อ.บางเส...   02-3152273-4   \n",
              "\n",
              "       เบอร์โทรสาร          จังหวัด ประเภทกิจการ  \\\n",
              "0    02-3373589-90      สมุทรปราการ        [6.6]   \n",
              "1              NaN  ประจวบคีรีขันธ์       [1.15]   \n",
              "2              NaN        สมุทรสาคร       [1.17]   \n",
              "3              NaN           ชลบุรี     [4.8.17]   \n",
              "4              NaN           ชลบุรี     [4.8.17]   \n",
              "..             ...              ...          ...   \n",
              "655            NaN            ระยอง       [7.34]   \n",
              "656            NaN            ระยอง    [7.1.1.2]   \n",
              "657            NaN              ตาก       [6.16]   \n",
              "658     038-570067       ฉะเชิงเทรา    [4.8.6.6]   \n",
              "659            NaN      สมุทรปราการ    [5.4.3.2]   \n",
              "\n",
              "                            ชื่อผลิตภัณฑ์  อุตสาหการ  ...  สาขาการตลาด  \\\n",
              "0            Plastic Parts for Automotive          0  ...            0   \n",
              "1                        Activated Carbon          0  ...            1   \n",
              "2           Frozen Pizza Disc/Pizza Dough          1  ...            0   \n",
              "3                      Temperature Sensor          0  ...            0   \n",
              "4                           Oxygen Sensor          2  ...            0   \n",
              "..                                    ...        ...  ...          ...   \n",
              "655   International Business Center : IBC          6  ...            0   \n",
              "656  Electricity Power from Solar Rooftop          0  ...            0   \n",
              "657                           Plastic Bag          0  ...            0   \n",
              "658                           Drive Shaft          0  ...            0   \n",
              "659                     Multiband Antenna          0  ...            0   \n",
              "\n",
              "     สาขาการจัดการ  สาขาเลขานุการ  สาขาคอมพิวเตอร์ธุรกิจ  \\\n",
              "0                0              0                      0   \n",
              "1                1              0                      0   \n",
              "2                0              0                      0   \n",
              "3                0              0                      0   \n",
              "4                0              0                      0   \n",
              "..             ...            ...                    ...   \n",
              "655              0              0                      0   \n",
              "656              0              0                      0   \n",
              "657              0              0                      0   \n",
              "658              0              0                      0   \n",
              "659              0              0                      0   \n",
              "\n",
              "     สาขาการเงินการธนาคาร  สาขาพัฒนาชุมชน-การสหกรณ์  พาณิชยการ  \\\n",
              "0                       0                         0          0   \n",
              "1                       0                         0          0   \n",
              "2                       0                         2          3   \n",
              "3                       0                         0          0   \n",
              "4                       0                         0          0   \n",
              "..                    ...                       ...        ...   \n",
              "655                     0                         0          0   \n",
              "656                     0                         0          0   \n",
              "657                     0                         0          0   \n",
              "658                     0                         0          0   \n",
              "659                     0                         0          0   \n",
              "\n",
              "     สาขาอุตสาหกรรมการท่องเที่ยว  สาขาศิลปศาสตร์  อาชีวศึกษาบริหารธุรกิจ อื่นๆ  \n",
              "0                              0               0                             0  \n",
              "1                              0               0                             0  \n",
              "2                              0               0                             0  \n",
              "3                              0               0                             0  \n",
              "4                              0               0                             0  \n",
              "..                           ...             ...                           ...  \n",
              "655                            0               0                             0  \n",
              "656                            0               0                             0  \n",
              "657                            0               0                             0  \n",
              "658                            0               0                             0  \n",
              "659                            0               0                             0  \n",
              "\n",
              "[660 rows x 165 columns]"
            ],
            "text/html": [
              "\n",
              "  <div id=\"df-d78f51fb-ce3a-4ed7-9177-2ec2e5639782\" class=\"colab-df-container\">\n",
              "    <div>\n",
              "<style scoped>\n",
              "    .dataframe tbody tr th:only-of-type {\n",
              "        vertical-align: middle;\n",
              "    }\n",
              "\n",
              "    .dataframe tbody tr th {\n",
              "        vertical-align: top;\n",
              "    }\n",
              "\n",
              "    .dataframe thead th {\n",
              "        text-align: right;\n",
              "    }\n",
              "</style>\n",
              "<table border=\"1\" class=\"dataframe\">\n",
              "  <thead>\n",
              "    <tr style=\"text-align: right;\">\n",
              "      <th></th>\n",
              "      <th>เลขที่คำขอ</th>\n",
              "      <th>เลขที่บัตรส่งเสริม</th>\n",
              "      <th>ชื่อบริษัทภาษาไทย</th>\n",
              "      <th>สถานที่ตั้งโรงงาน</th>\n",
              "      <th>เบอร์โทรศัพท์</th>\n",
              "      <th>เบอร์โทรสาร</th>\n",
              "      <th>จังหวัด</th>\n",
              "      <th>ประเภทกิจการ</th>\n",
              "      <th>ชื่อผลิตภัณฑ์</th>\n",
              "      <th>อุตสาหการ</th>\n",
              "      <th>...</th>\n",
              "      <th>สาขาการตลาด</th>\n",
              "      <th>สาขาการจัดการ</th>\n",
              "      <th>สาขาเลขานุการ</th>\n",
              "      <th>สาขาคอมพิวเตอร์ธุรกิจ</th>\n",
              "      <th>สาขาการเงินการธนาคาร</th>\n",
              "      <th>สาขาพัฒนาชุมชน-การสหกรณ์</th>\n",
              "      <th>พาณิชยการ</th>\n",
              "      <th>สาขาอุตสาหกรรมการท่องเที่ยว</th>\n",
              "      <th>สาขาศิลปศาสตร์</th>\n",
              "      <th>อาชีวศึกษาบริหารธุรกิจ อื่นๆ</th>\n",
              "    </tr>\n",
              "  </thead>\n",
              "  <tbody>\n",
              "    <tr>\n",
              "      <th>0</th>\n",
              "      <td>610707</td>\n",
              "      <td>62-0422-1-04-1-0</td>\n",
              "      <td>กรุงเทพ ไดอ์แคสซ์ติ้ง แอนด์ อินแจ๊กชั่น</td>\n",
              "      <td>46/1,46/2 หมู่ที่ 12 ถนนบางพลี-บางนาตราด ต.บาง...</td>\n",
              "      <td>02-3373078-84</td>\n",
              "      <td>02-3373589-90</td>\n",
              "      <td>สมุทรปราการ</td>\n",
              "      <td>[6.6]</td>\n",
              "      <td>Plastic Parts for Automotive</td>\n",
              "      <td>0</td>\n",
              "      <td>...</td>\n",
              "      <td>0</td>\n",
              "      <td>0</td>\n",
              "      <td>0</td>\n",
              "      <td>0</td>\n",
              "      <td>0</td>\n",
              "      <td>0</td>\n",
              "      <td>0</td>\n",
              "      <td>0</td>\n",
              "      <td>0</td>\n",
              "      <td>0</td>\n",
              "    </tr>\n",
              "    <tr>\n",
              "      <th>1</th>\n",
              "      <td>620660</td>\n",
              "      <td>63-0107-1-00-1-0</td>\n",
              "      <td>เจ้าพระยา คาร์บอน</td>\n",
              "      <td>ต.เขาล้าน อ.ทับสะแก ประจวบคีรีขันธ์ 77130</td>\n",
              "      <td>081-8412110</td>\n",
              "      <td>NaN</td>\n",
              "      <td>ประจวบคีรีขันธ์</td>\n",
              "      <td>[1.15]</td>\n",
              "      <td>Activated Carbon</td>\n",
              "      <td>0</td>\n",
              "      <td>...</td>\n",
              "      <td>1</td>\n",
              "      <td>1</td>\n",
              "      <td>0</td>\n",
              "      <td>0</td>\n",
              "      <td>0</td>\n",
              "      <td>0</td>\n",
              "      <td>0</td>\n",
              "      <td>0</td>\n",
              "      <td>0</td>\n",
              "      <td>0</td>\n",
              "    </tr>\n",
              "    <tr>\n",
              "      <th>2</th>\n",
              "      <td>610182</td>\n",
              "      <td>63-0101-1-00-1-0</td>\n",
              "      <td>อาร์ต ออฟ เบคกิ้ง</td>\n",
              "      <td>111/21 หมู่ที่ 2 ต.ท่าจีน อ.เมือง สมุทรสาคร 74000</td>\n",
              "      <td>034-440157</td>\n",
              "      <td>NaN</td>\n",
              "      <td>สมุทรสาคร</td>\n",
              "      <td>[1.17]</td>\n",
              "      <td>Frozen Pizza Disc/Pizza Dough</td>\n",
              "      <td>1</td>\n",
              "      <td>...</td>\n",
              "      <td>0</td>\n",
              "      <td>0</td>\n",
              "      <td>0</td>\n",
              "      <td>0</td>\n",
              "      <td>0</td>\n",
              "      <td>2</td>\n",
              "      <td>3</td>\n",
              "      <td>0</td>\n",
              "      <td>0</td>\n",
              "      <td>0</td>\n",
              "    </tr>\n",
              "    <tr>\n",
              "      <th>3</th>\n",
              "      <td>620318</td>\n",
              "      <td>63-0080-1-00-0-0</td>\n",
              "      <td>เอ็นจีเค สปาร์คปลั๊กส์ (ประเทศไทย)</td>\n",
              "      <td>700/864 หมู่ที่ 1 ต.พานทอง อ.พานทอง ชลบุรี 20160</td>\n",
              "      <td>NaN</td>\n",
              "      <td>NaN</td>\n",
              "      <td>ชลบุรี</td>\n",
              "      <td>[4.8.17]</td>\n",
              "      <td>Temperature Sensor</td>\n",
              "      <td>0</td>\n",
              "      <td>...</td>\n",
              "      <td>0</td>\n",
              "      <td>0</td>\n",
              "      <td>0</td>\n",
              "      <td>0</td>\n",
              "      <td>0</td>\n",
              "      <td>0</td>\n",
              "      <td>0</td>\n",
              "      <td>0</td>\n",
              "      <td>0</td>\n",
              "      <td>0</td>\n",
              "    </tr>\n",
              "    <tr>\n",
              "      <th>4</th>\n",
              "      <td>620185</td>\n",
              "      <td>63-0079-1-00-0-0</td>\n",
              "      <td>เอ็นจีเค สปาร์คปลั๊กส์ (ประเทศไทย)</td>\n",
              "      <td>700/864 หมู่ที่ 1 ต.พานทอง อ.พานทอง ชลบุรี 20160</td>\n",
              "      <td>NaN</td>\n",
              "      <td>NaN</td>\n",
              "      <td>ชลบุรี</td>\n",
              "      <td>[4.8.17]</td>\n",
              "      <td>Oxygen Sensor</td>\n",
              "      <td>2</td>\n",
              "      <td>...</td>\n",
              "      <td>0</td>\n",
              "      <td>0</td>\n",
              "      <td>0</td>\n",
              "      <td>0</td>\n",
              "      <td>0</td>\n",
              "      <td>0</td>\n",
              "      <td>0</td>\n",
              "      <td>0</td>\n",
              "      <td>0</td>\n",
              "      <td>0</td>\n",
              "    </tr>\n",
              "    <tr>\n",
              "      <th>...</th>\n",
              "      <td>...</td>\n",
              "      <td>...</td>\n",
              "      <td>...</td>\n",
              "      <td>...</td>\n",
              "      <td>...</td>\n",
              "      <td>...</td>\n",
              "      <td>...</td>\n",
              "      <td>...</td>\n",
              "      <td>...</td>\n",
              "      <td>...</td>\n",
              "      <td>...</td>\n",
              "      <td>...</td>\n",
              "      <td>...</td>\n",
              "      <td>...</td>\n",
              "      <td>...</td>\n",
              "      <td>...</td>\n",
              "      <td>...</td>\n",
              "      <td>...</td>\n",
              "      <td>...</td>\n",
              "      <td>...</td>\n",
              "      <td>...</td>\n",
              "    </tr>\n",
              "    <tr>\n",
              "      <th>655</th>\n",
              "      <td>E630369</td>\n",
              "      <td>63-0669-1-00-0-0</td>\n",
              "      <td>อีเลคโทรลักซ์ โปรเฟสชั่นแนล (ประเทศไทย)</td>\n",
              "      <td>222 หมู่ที่ 11 ต.หนองละลอก อ.บ้านค่าย ระยอง 21120</td>\n",
              "      <td>NaN</td>\n",
              "      <td>NaN</td>\n",
              "      <td>ระยอง</td>\n",
              "      <td>[7.34]</td>\n",
              "      <td>International Business Center : IBC</td>\n",
              "      <td>6</td>\n",
              "      <td>...</td>\n",
              "      <td>0</td>\n",
              "      <td>0</td>\n",
              "      <td>0</td>\n",
              "      <td>0</td>\n",
              "      <td>0</td>\n",
              "      <td>0</td>\n",
              "      <td>0</td>\n",
              "      <td>0</td>\n",
              "      <td>0</td>\n",
              "      <td>0</td>\n",
              "    </tr>\n",
              "    <tr>\n",
              "      <th>656</th>\n",
              "      <td>E630401</td>\n",
              "      <td>63-0682-1-00-1-0</td>\n",
              "      <td>โกลว์ พลังงาน</td>\n",
              "      <td>60/5 ต.มาบยางพร อ.ปลวกแดง ระยอง 21140</td>\n",
              "      <td>NaN</td>\n",
              "      <td>NaN</td>\n",
              "      <td>ระยอง</td>\n",
              "      <td>[7.1.1.2]</td>\n",
              "      <td>Electricity Power from Solar Rooftop</td>\n",
              "      <td>0</td>\n",
              "      <td>...</td>\n",
              "      <td>0</td>\n",
              "      <td>0</td>\n",
              "      <td>0</td>\n",
              "      <td>0</td>\n",
              "      <td>0</td>\n",
              "      <td>0</td>\n",
              "      <td>0</td>\n",
              "      <td>0</td>\n",
              "      <td>0</td>\n",
              "      <td>0</td>\n",
              "    </tr>\n",
              "    <tr>\n",
              "      <th>657</th>\n",
              "      <td>E630277</td>\n",
              "      <td>63-0666-1-03-1-0</td>\n",
              "      <td>ยูนิค อุตสาหกรรมพลาสติก (แม่สอด)</td>\n",
              "      <td>269/11 หมู่ที่ 15 ต.แม่กาษา อ.แม่สอด ตาก 63110</td>\n",
              "      <td>064-9510202</td>\n",
              "      <td>NaN</td>\n",
              "      <td>ตาก</td>\n",
              "      <td>[6.16]</td>\n",
              "      <td>Plastic Bag</td>\n",
              "      <td>0</td>\n",
              "      <td>...</td>\n",
              "      <td>0</td>\n",
              "      <td>0</td>\n",
              "      <td>0</td>\n",
              "      <td>0</td>\n",
              "      <td>0</td>\n",
              "      <td>0</td>\n",
              "      <td>0</td>\n",
              "      <td>0</td>\n",
              "      <td>0</td>\n",
              "      <td>0</td>\n",
              "    </tr>\n",
              "    <tr>\n",
              "      <th>658</th>\n",
              "      <td>610552</td>\n",
              "      <td>63-0676-1-00-1-0</td>\n",
              "      <td>ไอชิน เอไอ (ประเทศไทย)</td>\n",
              "      <td>80 หมู่ที่ 5 ถนนบางนา-ตราด ต.บางสมัคร อ.บางปะก...</td>\n",
              "      <td>038-570062</td>\n",
              "      <td>038-570067</td>\n",
              "      <td>ฉะเชิงเทรา</td>\n",
              "      <td>[4.8.6.6]</td>\n",
              "      <td>Drive Shaft</td>\n",
              "      <td>0</td>\n",
              "      <td>...</td>\n",
              "      <td>0</td>\n",
              "      <td>0</td>\n",
              "      <td>0</td>\n",
              "      <td>0</td>\n",
              "      <td>0</td>\n",
              "      <td>0</td>\n",
              "      <td>0</td>\n",
              "      <td>0</td>\n",
              "      <td>0</td>\n",
              "      <td>0</td>\n",
              "    </tr>\n",
              "    <tr>\n",
              "      <th>659</th>\n",
              "      <td>E630269</td>\n",
              "      <td>63-0668-1-00-1-0</td>\n",
              "      <td>เอ็มเอ็มซี อีเล็คโทรนิคส์ (ไทยแลนด์)</td>\n",
              "      <td>129/2 หมู่ที่ 17 ถนนเทพรัตน ต.บางเสาธง อ.บางเส...</td>\n",
              "      <td>02-3152273-4</td>\n",
              "      <td>NaN</td>\n",
              "      <td>สมุทรปราการ</td>\n",
              "      <td>[5.4.3.2]</td>\n",
              "      <td>Multiband Antenna</td>\n",
              "      <td>0</td>\n",
              "      <td>...</td>\n",
              "      <td>0</td>\n",
              "      <td>0</td>\n",
              "      <td>0</td>\n",
              "      <td>0</td>\n",
              "      <td>0</td>\n",
              "      <td>0</td>\n",
              "      <td>0</td>\n",
              "      <td>0</td>\n",
              "      <td>0</td>\n",
              "      <td>0</td>\n",
              "    </tr>\n",
              "  </tbody>\n",
              "</table>\n",
              "<p>660 rows × 165 columns</p>\n",
              "</div>\n",
              "    <div class=\"colab-df-buttons\">\n",
              "\n",
              "  <div class=\"colab-df-container\">\n",
              "    <button class=\"colab-df-convert\" onclick=\"convertToInteractive('df-d78f51fb-ce3a-4ed7-9177-2ec2e5639782')\"\n",
              "            title=\"Convert this dataframe to an interactive table.\"\n",
              "            style=\"display:none;\">\n",
              "\n",
              "  <svg xmlns=\"http://www.w3.org/2000/svg\" height=\"24px\" viewBox=\"0 -960 960 960\">\n",
              "    <path d=\"M120-120v-720h720v720H120Zm60-500h600v-160H180v160Zm220 220h160v-160H400v160Zm0 220h160v-160H400v160ZM180-400h160v-160H180v160Zm440 0h160v-160H620v160ZM180-180h160v-160H180v160Zm440 0h160v-160H620v160Z\"/>\n",
              "  </svg>\n",
              "    </button>\n",
              "\n",
              "  <style>\n",
              "    .colab-df-container {\n",
              "      display:flex;\n",
              "      gap: 12px;\n",
              "    }\n",
              "\n",
              "    .colab-df-convert {\n",
              "      background-color: #E8F0FE;\n",
              "      border: none;\n",
              "      border-radius: 50%;\n",
              "      cursor: pointer;\n",
              "      display: none;\n",
              "      fill: #1967D2;\n",
              "      height: 32px;\n",
              "      padding: 0 0 0 0;\n",
              "      width: 32px;\n",
              "    }\n",
              "\n",
              "    .colab-df-convert:hover {\n",
              "      background-color: #E2EBFA;\n",
              "      box-shadow: 0px 1px 2px rgba(60, 64, 67, 0.3), 0px 1px 3px 1px rgba(60, 64, 67, 0.15);\n",
              "      fill: #174EA6;\n",
              "    }\n",
              "\n",
              "    .colab-df-buttons div {\n",
              "      margin-bottom: 4px;\n",
              "    }\n",
              "\n",
              "    [theme=dark] .colab-df-convert {\n",
              "      background-color: #3B4455;\n",
              "      fill: #D2E3FC;\n",
              "    }\n",
              "\n",
              "    [theme=dark] .colab-df-convert:hover {\n",
              "      background-color: #434B5C;\n",
              "      box-shadow: 0px 1px 3px 1px rgba(0, 0, 0, 0.15);\n",
              "      filter: drop-shadow(0px 1px 2px rgba(0, 0, 0, 0.3));\n",
              "      fill: #FFFFFF;\n",
              "    }\n",
              "  </style>\n",
              "\n",
              "    <script>\n",
              "      const buttonEl =\n",
              "        document.querySelector('#df-d78f51fb-ce3a-4ed7-9177-2ec2e5639782 button.colab-df-convert');\n",
              "      buttonEl.style.display =\n",
              "        google.colab.kernel.accessAllowed ? 'block' : 'none';\n",
              "\n",
              "      async function convertToInteractive(key) {\n",
              "        const element = document.querySelector('#df-d78f51fb-ce3a-4ed7-9177-2ec2e5639782');\n",
              "        const dataTable =\n",
              "          await google.colab.kernel.invokeFunction('convertToInteractive',\n",
              "                                                    [key], {});\n",
              "        if (!dataTable) return;\n",
              "\n",
              "        const docLinkHtml = 'Like what you see? Visit the ' +\n",
              "          '<a target=\"_blank\" href=https://colab.research.google.com/notebooks/data_table.ipynb>data table notebook</a>'\n",
              "          + ' to learn more about interactive tables.';\n",
              "        element.innerHTML = '';\n",
              "        dataTable['output_type'] = 'display_data';\n",
              "        await google.colab.output.renderOutput(dataTable, element);\n",
              "        const docLink = document.createElement('div');\n",
              "        docLink.innerHTML = docLinkHtml;\n",
              "        element.appendChild(docLink);\n",
              "      }\n",
              "    </script>\n",
              "  </div>\n",
              "\n",
              "\n",
              "<div id=\"df-990fd496-a31b-459e-a1b0-15e55c8ab78c\">\n",
              "  <button class=\"colab-df-quickchart\" onclick=\"quickchart('df-990fd496-a31b-459e-a1b0-15e55c8ab78c')\"\n",
              "            title=\"Suggest charts\"\n",
              "            style=\"display:none;\">\n",
              "\n",
              "<svg xmlns=\"http://www.w3.org/2000/svg\" height=\"24px\"viewBox=\"0 0 24 24\"\n",
              "     width=\"24px\">\n",
              "    <g>\n",
              "        <path d=\"M19 3H5c-1.1 0-2 .9-2 2v14c0 1.1.9 2 2 2h14c1.1 0 2-.9 2-2V5c0-1.1-.9-2-2-2zM9 17H7v-7h2v7zm4 0h-2V7h2v10zm4 0h-2v-4h2v4z\"/>\n",
              "    </g>\n",
              "</svg>\n",
              "  </button>\n",
              "\n",
              "<style>\n",
              "  .colab-df-quickchart {\n",
              "      --bg-color: #E8F0FE;\n",
              "      --fill-color: #1967D2;\n",
              "      --hover-bg-color: #E2EBFA;\n",
              "      --hover-fill-color: #174EA6;\n",
              "      --disabled-fill-color: #AAA;\n",
              "      --disabled-bg-color: #DDD;\n",
              "  }\n",
              "\n",
              "  [theme=dark] .colab-df-quickchart {\n",
              "      --bg-color: #3B4455;\n",
              "      --fill-color: #D2E3FC;\n",
              "      --hover-bg-color: #434B5C;\n",
              "      --hover-fill-color: #FFFFFF;\n",
              "      --disabled-bg-color: #3B4455;\n",
              "      --disabled-fill-color: #666;\n",
              "  }\n",
              "\n",
              "  .colab-df-quickchart {\n",
              "    background-color: var(--bg-color);\n",
              "    border: none;\n",
              "    border-radius: 50%;\n",
              "    cursor: pointer;\n",
              "    display: none;\n",
              "    fill: var(--fill-color);\n",
              "    height: 32px;\n",
              "    padding: 0;\n",
              "    width: 32px;\n",
              "  }\n",
              "\n",
              "  .colab-df-quickchart:hover {\n",
              "    background-color: var(--hover-bg-color);\n",
              "    box-shadow: 0 1px 2px rgba(60, 64, 67, 0.3), 0 1px 3px 1px rgba(60, 64, 67, 0.15);\n",
              "    fill: var(--button-hover-fill-color);\n",
              "  }\n",
              "\n",
              "  .colab-df-quickchart-complete:disabled,\n",
              "  .colab-df-quickchart-complete:disabled:hover {\n",
              "    background-color: var(--disabled-bg-color);\n",
              "    fill: var(--disabled-fill-color);\n",
              "    box-shadow: none;\n",
              "  }\n",
              "\n",
              "  .colab-df-spinner {\n",
              "    border: 2px solid var(--fill-color);\n",
              "    border-color: transparent;\n",
              "    border-bottom-color: var(--fill-color);\n",
              "    animation:\n",
              "      spin 1s steps(1) infinite;\n",
              "  }\n",
              "\n",
              "  @keyframes spin {\n",
              "    0% {\n",
              "      border-color: transparent;\n",
              "      border-bottom-color: var(--fill-color);\n",
              "      border-left-color: var(--fill-color);\n",
              "    }\n",
              "    20% {\n",
              "      border-color: transparent;\n",
              "      border-left-color: var(--fill-color);\n",
              "      border-top-color: var(--fill-color);\n",
              "    }\n",
              "    30% {\n",
              "      border-color: transparent;\n",
              "      border-left-color: var(--fill-color);\n",
              "      border-top-color: var(--fill-color);\n",
              "      border-right-color: var(--fill-color);\n",
              "    }\n",
              "    40% {\n",
              "      border-color: transparent;\n",
              "      border-right-color: var(--fill-color);\n",
              "      border-top-color: var(--fill-color);\n",
              "    }\n",
              "    60% {\n",
              "      border-color: transparent;\n",
              "      border-right-color: var(--fill-color);\n",
              "    }\n",
              "    80% {\n",
              "      border-color: transparent;\n",
              "      border-right-color: var(--fill-color);\n",
              "      border-bottom-color: var(--fill-color);\n",
              "    }\n",
              "    90% {\n",
              "      border-color: transparent;\n",
              "      border-bottom-color: var(--fill-color);\n",
              "    }\n",
              "  }\n",
              "</style>\n",
              "\n",
              "  <script>\n",
              "    async function quickchart(key) {\n",
              "      const quickchartButtonEl =\n",
              "        document.querySelector('#' + key + ' button');\n",
              "      quickchartButtonEl.disabled = true;  // To prevent multiple clicks.\n",
              "      quickchartButtonEl.classList.add('colab-df-spinner');\n",
              "      try {\n",
              "        const charts = await google.colab.kernel.invokeFunction(\n",
              "            'suggestCharts', [key], {});\n",
              "      } catch (error) {\n",
              "        console.error('Error during call to suggestCharts:', error);\n",
              "      }\n",
              "      quickchartButtonEl.classList.remove('colab-df-spinner');\n",
              "      quickchartButtonEl.classList.add('colab-df-quickchart-complete');\n",
              "    }\n",
              "    (() => {\n",
              "      let quickchartButtonEl =\n",
              "        document.querySelector('#df-990fd496-a31b-459e-a1b0-15e55c8ab78c button');\n",
              "      quickchartButtonEl.style.display =\n",
              "        google.colab.kernel.accessAllowed ? 'block' : 'none';\n",
              "    })();\n",
              "  </script>\n",
              "</div>\n",
              "    </div>\n",
              "  </div>\n"
            ]
          },
          "metadata": {},
          "execution_count": 12
        }
      ]
    },
    {
      "cell_type": "markdown",
      "source": [
        "##ดึงจาก GSheet"
      ],
      "metadata": {
        "id": "hEvc9d75MGeR"
      }
    },
    {
      "cell_type": "code",
      "source": [
        "from  google.colab import auth\n",
        "auth.authenticate_user()\n",
        "\n",
        "import gspread\n",
        "from google.auth import default\n",
        "creds, _ = default()\n",
        "\n",
        "gc = gspread.authorize(creds)"
      ],
      "metadata": {
        "id": "nolTUe1dHBAx"
      },
      "execution_count": 1,
      "outputs": []
    },
    {
      "cell_type": "code",
      "source": [
        "gsht = gc.open_by_key('1zg3lr7KGOu4MTBuRZFBCHzpuo42FgIyukUzXd7Z3TfU')"
      ],
      "metadata": {
        "id": "46lxbmwUH_0Z"
      },
      "execution_count": 2,
      "outputs": []
    },
    {
      "cell_type": "code",
      "source": [
        "worksheet2 = gsht.worksheet('มิ.ย. 2563')\n",
        "rows = worksheet2.get_all_values()\n",
        "data_from_gsheets = pd.DataFrame.from_records(rows)"
      ],
      "metadata": {
        "id": "3crsgTT-Ilif"
      },
      "execution_count": 5,
      "outputs": []
    },
    {
      "cell_type": "code",
      "source": [
        "data_from_gsheets.colums = data_from_gsheets.iloc[2] #set header\n",
        "data_from_gsheets = data_from_gsheets.iloc[2:].reset_index().iloc[:,1:] # skip rows\n",
        "data_from_gsheets.head()"
      ],
      "metadata": {
        "colab": {
          "base_uri": "https://localhost:8080/",
          "height": 602
        },
        "id": "1jsU11LjJLBR",
        "outputId": "634ea506-01a2-437f-f9c5-a41312707beb"
      },
      "execution_count": 6,
      "outputs": [
        {
          "output_type": "stream",
          "name": "stderr",
          "text": [
            "<ipython-input-6-f87b094cfd52>:1: UserWarning: Pandas doesn't allow columns to be created via a new attribute name - see https://pandas.pydata.org/pandas-docs/stable/indexing.html#attribute-access\n",
            "  data_from_gsheets.colums = data_from_gsheets.iloc[2] #set header\n"
          ]
        },
        {
          "output_type": "execute_result",
          "data": {
            "text/plain": [
              "          0                   1                                        2    \\\n",
              "0  เลขที่คำขอ  เลขที่บัตรส่งเสริม                        ชื่อบริษัทภาษาไทย   \n",
              "1      610707    62-0422-1-04-1-0  กรุงเทพ ไดอ์แคสซ์ติ้ง แอนด์ อินแจ๊กชั่น   \n",
              "2      620660    63-0107-1-00-1-0                        เจ้าพระยา คาร์บอน   \n",
              "3      610182    63-0101-1-00-1-0                        อาร์ต ออฟ เบคกิ้ง   \n",
              "4      620318    63-0080-1-00-0-0       เอ็นจีเค สปาร์คปลั๊กส์ (ประเทศไทย)   \n",
              "\n",
              "                                                 3              4    \\\n",
              "0                                  สถานที่ตั้งโรงงาน  เบอร์โทรศัพท์   \n",
              "1  46/1,46/2 หมู่ที่ 12 ถนนบางพลี-บางนาตราด ต.บาง...  02-3373078-84   \n",
              "2          ต.เขาล้าน อ.ทับสะแก ประจวบคีรีขันธ์ 77130    081-8412110   \n",
              "3  111/21 หมู่ที่ 2 ต.ท่าจีน อ.เมือง สมุทรสาคร 74000     034-440157   \n",
              "4   700/864 หมู่ที่ 1 ต.พานทอง อ.พานทอง ชลบุรี 20160                  \n",
              "\n",
              "             5                6             7    \\\n",
              "0    เบอร์โทรสาร          จังหวัด  ประเภทกิจการ   \n",
              "1  02-3373589-90      สมุทรปราการ         [6.6]   \n",
              "2                 ประจวบคีรีขันธ์        [1.15]   \n",
              "3                       สมุทรสาคร        [1.17]   \n",
              "4                          ชลบุรี      [4.8.17]   \n",
              "\n",
              "                             8          9    ...          155            156  \\\n",
              "0                  ชื่อผลิตภัณฑ์  อุตสาหการ  ...  สาขาการตลาด  สาขาการจัดการ   \n",
              "1   Plastic Parts for Automotive          0  ...            0              0   \n",
              "2               Activated Carbon          0  ...            1              1   \n",
              "3  Frozen Pizza Disc/Pizza Dough          1  ...            0              0   \n",
              "4             Temperature Sensor          0  ...            0              0   \n",
              "\n",
              "             157                    158                   159  \\\n",
              "0  สาขาเลขานุการ  สาขาคอมพิวเตอร์ธุรกิจ  สาขาการเงินการธนาคาร   \n",
              "1              0                      0                     0   \n",
              "2              0                      0                     0   \n",
              "3              0                      0                     0   \n",
              "4              0                      0                     0   \n",
              "\n",
              "                        160        161                          162  \\\n",
              "0  สาขาพัฒนาชุมชน-การสหกรณ์  พาณิชยการ  สาขาอุตสาหกรรมการท่องเที่ยว   \n",
              "1                         0          0                            0   \n",
              "2                         0          0                            0   \n",
              "3                         2          3                            0   \n",
              "4                         0          0                            0   \n",
              "\n",
              "              163                           164  \n",
              "0  สาขาศิลปศาสตร์  อาชีวศึกษาบริหารธุรกิจ อื่นๆ  \n",
              "1               0                             0  \n",
              "2               0                             0  \n",
              "3               0                             0  \n",
              "4               0                             0  \n",
              "\n",
              "[5 rows x 165 columns]"
            ],
            "text/html": [
              "\n",
              "  <div id=\"df-4cc5c562-3431-43ba-90dc-c15ab3d69002\" class=\"colab-df-container\">\n",
              "    <div>\n",
              "<style scoped>\n",
              "    .dataframe tbody tr th:only-of-type {\n",
              "        vertical-align: middle;\n",
              "    }\n",
              "\n",
              "    .dataframe tbody tr th {\n",
              "        vertical-align: top;\n",
              "    }\n",
              "\n",
              "    .dataframe thead th {\n",
              "        text-align: right;\n",
              "    }\n",
              "</style>\n",
              "<table border=\"1\" class=\"dataframe\">\n",
              "  <thead>\n",
              "    <tr style=\"text-align: right;\">\n",
              "      <th></th>\n",
              "      <th>0</th>\n",
              "      <th>1</th>\n",
              "      <th>2</th>\n",
              "      <th>3</th>\n",
              "      <th>4</th>\n",
              "      <th>5</th>\n",
              "      <th>6</th>\n",
              "      <th>7</th>\n",
              "      <th>8</th>\n",
              "      <th>9</th>\n",
              "      <th>...</th>\n",
              "      <th>155</th>\n",
              "      <th>156</th>\n",
              "      <th>157</th>\n",
              "      <th>158</th>\n",
              "      <th>159</th>\n",
              "      <th>160</th>\n",
              "      <th>161</th>\n",
              "      <th>162</th>\n",
              "      <th>163</th>\n",
              "      <th>164</th>\n",
              "    </tr>\n",
              "  </thead>\n",
              "  <tbody>\n",
              "    <tr>\n",
              "      <th>0</th>\n",
              "      <td>เลขที่คำขอ</td>\n",
              "      <td>เลขที่บัตรส่งเสริม</td>\n",
              "      <td>ชื่อบริษัทภาษาไทย</td>\n",
              "      <td>สถานที่ตั้งโรงงาน</td>\n",
              "      <td>เบอร์โทรศัพท์</td>\n",
              "      <td>เบอร์โทรสาร</td>\n",
              "      <td>จังหวัด</td>\n",
              "      <td>ประเภทกิจการ</td>\n",
              "      <td>ชื่อผลิตภัณฑ์</td>\n",
              "      <td>อุตสาหการ</td>\n",
              "      <td>...</td>\n",
              "      <td>สาขาการตลาด</td>\n",
              "      <td>สาขาการจัดการ</td>\n",
              "      <td>สาขาเลขานุการ</td>\n",
              "      <td>สาขาคอมพิวเตอร์ธุรกิจ</td>\n",
              "      <td>สาขาการเงินการธนาคาร</td>\n",
              "      <td>สาขาพัฒนาชุมชน-การสหกรณ์</td>\n",
              "      <td>พาณิชยการ</td>\n",
              "      <td>สาขาอุตสาหกรรมการท่องเที่ยว</td>\n",
              "      <td>สาขาศิลปศาสตร์</td>\n",
              "      <td>อาชีวศึกษาบริหารธุรกิจ อื่นๆ</td>\n",
              "    </tr>\n",
              "    <tr>\n",
              "      <th>1</th>\n",
              "      <td>610707</td>\n",
              "      <td>62-0422-1-04-1-0</td>\n",
              "      <td>กรุงเทพ ไดอ์แคสซ์ติ้ง แอนด์ อินแจ๊กชั่น</td>\n",
              "      <td>46/1,46/2 หมู่ที่ 12 ถนนบางพลี-บางนาตราด ต.บาง...</td>\n",
              "      <td>02-3373078-84</td>\n",
              "      <td>02-3373589-90</td>\n",
              "      <td>สมุทรปราการ</td>\n",
              "      <td>[6.6]</td>\n",
              "      <td>Plastic Parts for Automotive</td>\n",
              "      <td>0</td>\n",
              "      <td>...</td>\n",
              "      <td>0</td>\n",
              "      <td>0</td>\n",
              "      <td>0</td>\n",
              "      <td>0</td>\n",
              "      <td>0</td>\n",
              "      <td>0</td>\n",
              "      <td>0</td>\n",
              "      <td>0</td>\n",
              "      <td>0</td>\n",
              "      <td>0</td>\n",
              "    </tr>\n",
              "    <tr>\n",
              "      <th>2</th>\n",
              "      <td>620660</td>\n",
              "      <td>63-0107-1-00-1-0</td>\n",
              "      <td>เจ้าพระยา คาร์บอน</td>\n",
              "      <td>ต.เขาล้าน อ.ทับสะแก ประจวบคีรีขันธ์ 77130</td>\n",
              "      <td>081-8412110</td>\n",
              "      <td></td>\n",
              "      <td>ประจวบคีรีขันธ์</td>\n",
              "      <td>[1.15]</td>\n",
              "      <td>Activated Carbon</td>\n",
              "      <td>0</td>\n",
              "      <td>...</td>\n",
              "      <td>1</td>\n",
              "      <td>1</td>\n",
              "      <td>0</td>\n",
              "      <td>0</td>\n",
              "      <td>0</td>\n",
              "      <td>0</td>\n",
              "      <td>0</td>\n",
              "      <td>0</td>\n",
              "      <td>0</td>\n",
              "      <td>0</td>\n",
              "    </tr>\n",
              "    <tr>\n",
              "      <th>3</th>\n",
              "      <td>610182</td>\n",
              "      <td>63-0101-1-00-1-0</td>\n",
              "      <td>อาร์ต ออฟ เบคกิ้ง</td>\n",
              "      <td>111/21 หมู่ที่ 2 ต.ท่าจีน อ.เมือง สมุทรสาคร 74000</td>\n",
              "      <td>034-440157</td>\n",
              "      <td></td>\n",
              "      <td>สมุทรสาคร</td>\n",
              "      <td>[1.17]</td>\n",
              "      <td>Frozen Pizza Disc/Pizza Dough</td>\n",
              "      <td>1</td>\n",
              "      <td>...</td>\n",
              "      <td>0</td>\n",
              "      <td>0</td>\n",
              "      <td>0</td>\n",
              "      <td>0</td>\n",
              "      <td>0</td>\n",
              "      <td>2</td>\n",
              "      <td>3</td>\n",
              "      <td>0</td>\n",
              "      <td>0</td>\n",
              "      <td>0</td>\n",
              "    </tr>\n",
              "    <tr>\n",
              "      <th>4</th>\n",
              "      <td>620318</td>\n",
              "      <td>63-0080-1-00-0-0</td>\n",
              "      <td>เอ็นจีเค สปาร์คปลั๊กส์ (ประเทศไทย)</td>\n",
              "      <td>700/864 หมู่ที่ 1 ต.พานทอง อ.พานทอง ชลบุรี 20160</td>\n",
              "      <td></td>\n",
              "      <td></td>\n",
              "      <td>ชลบุรี</td>\n",
              "      <td>[4.8.17]</td>\n",
              "      <td>Temperature Sensor</td>\n",
              "      <td>0</td>\n",
              "      <td>...</td>\n",
              "      <td>0</td>\n",
              "      <td>0</td>\n",
              "      <td>0</td>\n",
              "      <td>0</td>\n",
              "      <td>0</td>\n",
              "      <td>0</td>\n",
              "      <td>0</td>\n",
              "      <td>0</td>\n",
              "      <td>0</td>\n",
              "      <td>0</td>\n",
              "    </tr>\n",
              "  </tbody>\n",
              "</table>\n",
              "<p>5 rows × 165 columns</p>\n",
              "</div>\n",
              "    <div class=\"colab-df-buttons\">\n",
              "\n",
              "  <div class=\"colab-df-container\">\n",
              "    <button class=\"colab-df-convert\" onclick=\"convertToInteractive('df-4cc5c562-3431-43ba-90dc-c15ab3d69002')\"\n",
              "            title=\"Convert this dataframe to an interactive table.\"\n",
              "            style=\"display:none;\">\n",
              "\n",
              "  <svg xmlns=\"http://www.w3.org/2000/svg\" height=\"24px\" viewBox=\"0 -960 960 960\">\n",
              "    <path d=\"M120-120v-720h720v720H120Zm60-500h600v-160H180v160Zm220 220h160v-160H400v160Zm0 220h160v-160H400v160ZM180-400h160v-160H180v160Zm440 0h160v-160H620v160ZM180-180h160v-160H180v160Zm440 0h160v-160H620v160Z\"/>\n",
              "  </svg>\n",
              "    </button>\n",
              "\n",
              "  <style>\n",
              "    .colab-df-container {\n",
              "      display:flex;\n",
              "      gap: 12px;\n",
              "    }\n",
              "\n",
              "    .colab-df-convert {\n",
              "      background-color: #E8F0FE;\n",
              "      border: none;\n",
              "      border-radius: 50%;\n",
              "      cursor: pointer;\n",
              "      display: none;\n",
              "      fill: #1967D2;\n",
              "      height: 32px;\n",
              "      padding: 0 0 0 0;\n",
              "      width: 32px;\n",
              "    }\n",
              "\n",
              "    .colab-df-convert:hover {\n",
              "      background-color: #E2EBFA;\n",
              "      box-shadow: 0px 1px 2px rgba(60, 64, 67, 0.3), 0px 1px 3px 1px rgba(60, 64, 67, 0.15);\n",
              "      fill: #174EA6;\n",
              "    }\n",
              "\n",
              "    .colab-df-buttons div {\n",
              "      margin-bottom: 4px;\n",
              "    }\n",
              "\n",
              "    [theme=dark] .colab-df-convert {\n",
              "      background-color: #3B4455;\n",
              "      fill: #D2E3FC;\n",
              "    }\n",
              "\n",
              "    [theme=dark] .colab-df-convert:hover {\n",
              "      background-color: #434B5C;\n",
              "      box-shadow: 0px 1px 3px 1px rgba(0, 0, 0, 0.15);\n",
              "      filter: drop-shadow(0px 1px 2px rgba(0, 0, 0, 0.3));\n",
              "      fill: #FFFFFF;\n",
              "    }\n",
              "  </style>\n",
              "\n",
              "    <script>\n",
              "      const buttonEl =\n",
              "        document.querySelector('#df-4cc5c562-3431-43ba-90dc-c15ab3d69002 button.colab-df-convert');\n",
              "      buttonEl.style.display =\n",
              "        google.colab.kernel.accessAllowed ? 'block' : 'none';\n",
              "\n",
              "      async function convertToInteractive(key) {\n",
              "        const element = document.querySelector('#df-4cc5c562-3431-43ba-90dc-c15ab3d69002');\n",
              "        const dataTable =\n",
              "          await google.colab.kernel.invokeFunction('convertToInteractive',\n",
              "                                                    [key], {});\n",
              "        if (!dataTable) return;\n",
              "\n",
              "        const docLinkHtml = 'Like what you see? Visit the ' +\n",
              "          '<a target=\"_blank\" href=https://colab.research.google.com/notebooks/data_table.ipynb>data table notebook</a>'\n",
              "          + ' to learn more about interactive tables.';\n",
              "        element.innerHTML = '';\n",
              "        dataTable['output_type'] = 'display_data';\n",
              "        await google.colab.output.renderOutput(dataTable, element);\n",
              "        const docLink = document.createElement('div');\n",
              "        docLink.innerHTML = docLinkHtml;\n",
              "        element.appendChild(docLink);\n",
              "      }\n",
              "    </script>\n",
              "  </div>\n",
              "\n",
              "\n",
              "<div id=\"df-a811ffd0-859a-4b64-944b-7e2aa34e855c\">\n",
              "  <button class=\"colab-df-quickchart\" onclick=\"quickchart('df-a811ffd0-859a-4b64-944b-7e2aa34e855c')\"\n",
              "            title=\"Suggest charts\"\n",
              "            style=\"display:none;\">\n",
              "\n",
              "<svg xmlns=\"http://www.w3.org/2000/svg\" height=\"24px\"viewBox=\"0 0 24 24\"\n",
              "     width=\"24px\">\n",
              "    <g>\n",
              "        <path d=\"M19 3H5c-1.1 0-2 .9-2 2v14c0 1.1.9 2 2 2h14c1.1 0 2-.9 2-2V5c0-1.1-.9-2-2-2zM9 17H7v-7h2v7zm4 0h-2V7h2v10zm4 0h-2v-4h2v4z\"/>\n",
              "    </g>\n",
              "</svg>\n",
              "  </button>\n",
              "\n",
              "<style>\n",
              "  .colab-df-quickchart {\n",
              "      --bg-color: #E8F0FE;\n",
              "      --fill-color: #1967D2;\n",
              "      --hover-bg-color: #E2EBFA;\n",
              "      --hover-fill-color: #174EA6;\n",
              "      --disabled-fill-color: #AAA;\n",
              "      --disabled-bg-color: #DDD;\n",
              "  }\n",
              "\n",
              "  [theme=dark] .colab-df-quickchart {\n",
              "      --bg-color: #3B4455;\n",
              "      --fill-color: #D2E3FC;\n",
              "      --hover-bg-color: #434B5C;\n",
              "      --hover-fill-color: #FFFFFF;\n",
              "      --disabled-bg-color: #3B4455;\n",
              "      --disabled-fill-color: #666;\n",
              "  }\n",
              "\n",
              "  .colab-df-quickchart {\n",
              "    background-color: var(--bg-color);\n",
              "    border: none;\n",
              "    border-radius: 50%;\n",
              "    cursor: pointer;\n",
              "    display: none;\n",
              "    fill: var(--fill-color);\n",
              "    height: 32px;\n",
              "    padding: 0;\n",
              "    width: 32px;\n",
              "  }\n",
              "\n",
              "  .colab-df-quickchart:hover {\n",
              "    background-color: var(--hover-bg-color);\n",
              "    box-shadow: 0 1px 2px rgba(60, 64, 67, 0.3), 0 1px 3px 1px rgba(60, 64, 67, 0.15);\n",
              "    fill: var(--button-hover-fill-color);\n",
              "  }\n",
              "\n",
              "  .colab-df-quickchart-complete:disabled,\n",
              "  .colab-df-quickchart-complete:disabled:hover {\n",
              "    background-color: var(--disabled-bg-color);\n",
              "    fill: var(--disabled-fill-color);\n",
              "    box-shadow: none;\n",
              "  }\n",
              "\n",
              "  .colab-df-spinner {\n",
              "    border: 2px solid var(--fill-color);\n",
              "    border-color: transparent;\n",
              "    border-bottom-color: var(--fill-color);\n",
              "    animation:\n",
              "      spin 1s steps(1) infinite;\n",
              "  }\n",
              "\n",
              "  @keyframes spin {\n",
              "    0% {\n",
              "      border-color: transparent;\n",
              "      border-bottom-color: var(--fill-color);\n",
              "      border-left-color: var(--fill-color);\n",
              "    }\n",
              "    20% {\n",
              "      border-color: transparent;\n",
              "      border-left-color: var(--fill-color);\n",
              "      border-top-color: var(--fill-color);\n",
              "    }\n",
              "    30% {\n",
              "      border-color: transparent;\n",
              "      border-left-color: var(--fill-color);\n",
              "      border-top-color: var(--fill-color);\n",
              "      border-right-color: var(--fill-color);\n",
              "    }\n",
              "    40% {\n",
              "      border-color: transparent;\n",
              "      border-right-color: var(--fill-color);\n",
              "      border-top-color: var(--fill-color);\n",
              "    }\n",
              "    60% {\n",
              "      border-color: transparent;\n",
              "      border-right-color: var(--fill-color);\n",
              "    }\n",
              "    80% {\n",
              "      border-color: transparent;\n",
              "      border-right-color: var(--fill-color);\n",
              "      border-bottom-color: var(--fill-color);\n",
              "    }\n",
              "    90% {\n",
              "      border-color: transparent;\n",
              "      border-bottom-color: var(--fill-color);\n",
              "    }\n",
              "  }\n",
              "</style>\n",
              "\n",
              "  <script>\n",
              "    async function quickchart(key) {\n",
              "      const quickchartButtonEl =\n",
              "        document.querySelector('#' + key + ' button');\n",
              "      quickchartButtonEl.disabled = true;  // To prevent multiple clicks.\n",
              "      quickchartButtonEl.classList.add('colab-df-spinner');\n",
              "      try {\n",
              "        const charts = await google.colab.kernel.invokeFunction(\n",
              "            'suggestCharts', [key], {});\n",
              "      } catch (error) {\n",
              "        console.error('Error during call to suggestCharts:', error);\n",
              "      }\n",
              "      quickchartButtonEl.classList.remove('colab-df-spinner');\n",
              "      quickchartButtonEl.classList.add('colab-df-quickchart-complete');\n",
              "    }\n",
              "    (() => {\n",
              "      let quickchartButtonEl =\n",
              "        document.querySelector('#df-a811ffd0-859a-4b64-944b-7e2aa34e855c button');\n",
              "      quickchartButtonEl.style.display =\n",
              "        google.colab.kernel.accessAllowed ? 'block' : 'none';\n",
              "    })();\n",
              "  </script>\n",
              "</div>\n",
              "    </div>\n",
              "  </div>\n"
            ]
          },
          "metadata": {},
          "execution_count": 6
        }
      ]
    },
    {
      "cell_type": "markdown",
      "source": [
        "# Load CSV from Google Drive"
      ],
      "metadata": {
        "id": "P4ux7ukRGRkE"
      }
    },
    {
      "cell_type": "code",
      "source": [
        "shopping_data = pd.read_csv('/content/drive/MyDrive/ปี 3/BSC_DPDM/customer_shopping_data.csv')"
      ],
      "metadata": {
        "id": "QWJoQ6x_14JT"
      },
      "execution_count": 13,
      "outputs": []
    },
    {
      "cell_type": "code",
      "source": [
        "shopping_data.head()"
      ],
      "metadata": {
        "id": "iu3_pacj2js6",
        "outputId": "ebbb135b-cd2c-42c4-aa9d-45d237c0ca89",
        "colab": {
          "base_uri": "https://localhost:8080/",
          "height": 176
        }
      },
      "execution_count": 7,
      "outputs": [
        {
          "output_type": "error",
          "ename": "NameError",
          "evalue": "ignored",
          "traceback": [
            "\u001b[0;31m---------------------------------------------------------------------------\u001b[0m",
            "\u001b[0;31mNameError\u001b[0m                                 Traceback (most recent call last)",
            "\u001b[0;32m<ipython-input-7-db6c5c7f8d7e>\u001b[0m in \u001b[0;36m<cell line: 1>\u001b[0;34m()\u001b[0m\n\u001b[0;32m----> 1\u001b[0;31m \u001b[0mshopping_data\u001b[0m\u001b[0;34m.\u001b[0m\u001b[0mhead\u001b[0m\u001b[0;34m(\u001b[0m\u001b[0;34m)\u001b[0m\u001b[0;34m\u001b[0m\u001b[0;34m\u001b[0m\u001b[0m\n\u001b[0m",
            "\u001b[0;31mNameError\u001b[0m: name 'shopping_data' is not defined"
          ]
        }
      ]
    },
    {
      "cell_type": "markdown",
      "source": [
        "#Basic stats"
      ],
      "metadata": {
        "id": "WE4DPsWPBkRA"
      }
    },
    {
      "cell_type": "code",
      "source": [
        "shopping_data.describe()"
      ],
      "metadata": {
        "id": "jqWWAqxOK7gd",
        "outputId": "0d6f955d-1d3e-49ec-8d25-a10570d3cdde",
        "colab": {
          "base_uri": "https://localhost:8080/",
          "height": 300
        }
      },
      "execution_count": 14,
      "outputs": [
        {
          "output_type": "execute_result",
          "data": {
            "text/plain": [
              "                age      quantity         price\n",
              "count  99457.000000  99457.000000  99457.000000\n",
              "mean      43.427089      3.003429    689.256321\n",
              "std       14.990054      1.413025    941.184567\n",
              "min       18.000000      1.000000      5.230000\n",
              "25%       30.000000      2.000000     45.450000\n",
              "50%       43.000000      3.000000    203.300000\n",
              "75%       56.000000      4.000000   1200.320000\n",
              "max       69.000000      5.000000   5250.000000"
            ],
            "text/html": [
              "\n",
              "  <div id=\"df-f475f528-c78e-482e-be38-cbdeaad8adfc\" class=\"colab-df-container\">\n",
              "    <div>\n",
              "<style scoped>\n",
              "    .dataframe tbody tr th:only-of-type {\n",
              "        vertical-align: middle;\n",
              "    }\n",
              "\n",
              "    .dataframe tbody tr th {\n",
              "        vertical-align: top;\n",
              "    }\n",
              "\n",
              "    .dataframe thead th {\n",
              "        text-align: right;\n",
              "    }\n",
              "</style>\n",
              "<table border=\"1\" class=\"dataframe\">\n",
              "  <thead>\n",
              "    <tr style=\"text-align: right;\">\n",
              "      <th></th>\n",
              "      <th>age</th>\n",
              "      <th>quantity</th>\n",
              "      <th>price</th>\n",
              "    </tr>\n",
              "  </thead>\n",
              "  <tbody>\n",
              "    <tr>\n",
              "      <th>count</th>\n",
              "      <td>99457.000000</td>\n",
              "      <td>99457.000000</td>\n",
              "      <td>99457.000000</td>\n",
              "    </tr>\n",
              "    <tr>\n",
              "      <th>mean</th>\n",
              "      <td>43.427089</td>\n",
              "      <td>3.003429</td>\n",
              "      <td>689.256321</td>\n",
              "    </tr>\n",
              "    <tr>\n",
              "      <th>std</th>\n",
              "      <td>14.990054</td>\n",
              "      <td>1.413025</td>\n",
              "      <td>941.184567</td>\n",
              "    </tr>\n",
              "    <tr>\n",
              "      <th>min</th>\n",
              "      <td>18.000000</td>\n",
              "      <td>1.000000</td>\n",
              "      <td>5.230000</td>\n",
              "    </tr>\n",
              "    <tr>\n",
              "      <th>25%</th>\n",
              "      <td>30.000000</td>\n",
              "      <td>2.000000</td>\n",
              "      <td>45.450000</td>\n",
              "    </tr>\n",
              "    <tr>\n",
              "      <th>50%</th>\n",
              "      <td>43.000000</td>\n",
              "      <td>3.000000</td>\n",
              "      <td>203.300000</td>\n",
              "    </tr>\n",
              "    <tr>\n",
              "      <th>75%</th>\n",
              "      <td>56.000000</td>\n",
              "      <td>4.000000</td>\n",
              "      <td>1200.320000</td>\n",
              "    </tr>\n",
              "    <tr>\n",
              "      <th>max</th>\n",
              "      <td>69.000000</td>\n",
              "      <td>5.000000</td>\n",
              "      <td>5250.000000</td>\n",
              "    </tr>\n",
              "  </tbody>\n",
              "</table>\n",
              "</div>\n",
              "    <div class=\"colab-df-buttons\">\n",
              "\n",
              "  <div class=\"colab-df-container\">\n",
              "    <button class=\"colab-df-convert\" onclick=\"convertToInteractive('df-f475f528-c78e-482e-be38-cbdeaad8adfc')\"\n",
              "            title=\"Convert this dataframe to an interactive table.\"\n",
              "            style=\"display:none;\">\n",
              "\n",
              "  <svg xmlns=\"http://www.w3.org/2000/svg\" height=\"24px\" viewBox=\"0 -960 960 960\">\n",
              "    <path d=\"M120-120v-720h720v720H120Zm60-500h600v-160H180v160Zm220 220h160v-160H400v160Zm0 220h160v-160H400v160ZM180-400h160v-160H180v160Zm440 0h160v-160H620v160ZM180-180h160v-160H180v160Zm440 0h160v-160H620v160Z\"/>\n",
              "  </svg>\n",
              "    </button>\n",
              "\n",
              "  <style>\n",
              "    .colab-df-container {\n",
              "      display:flex;\n",
              "      gap: 12px;\n",
              "    }\n",
              "\n",
              "    .colab-df-convert {\n",
              "      background-color: #E8F0FE;\n",
              "      border: none;\n",
              "      border-radius: 50%;\n",
              "      cursor: pointer;\n",
              "      display: none;\n",
              "      fill: #1967D2;\n",
              "      height: 32px;\n",
              "      padding: 0 0 0 0;\n",
              "      width: 32px;\n",
              "    }\n",
              "\n",
              "    .colab-df-convert:hover {\n",
              "      background-color: #E2EBFA;\n",
              "      box-shadow: 0px 1px 2px rgba(60, 64, 67, 0.3), 0px 1px 3px 1px rgba(60, 64, 67, 0.15);\n",
              "      fill: #174EA6;\n",
              "    }\n",
              "\n",
              "    .colab-df-buttons div {\n",
              "      margin-bottom: 4px;\n",
              "    }\n",
              "\n",
              "    [theme=dark] .colab-df-convert {\n",
              "      background-color: #3B4455;\n",
              "      fill: #D2E3FC;\n",
              "    }\n",
              "\n",
              "    [theme=dark] .colab-df-convert:hover {\n",
              "      background-color: #434B5C;\n",
              "      box-shadow: 0px 1px 3px 1px rgba(0, 0, 0, 0.15);\n",
              "      filter: drop-shadow(0px 1px 2px rgba(0, 0, 0, 0.3));\n",
              "      fill: #FFFFFF;\n",
              "    }\n",
              "  </style>\n",
              "\n",
              "    <script>\n",
              "      const buttonEl =\n",
              "        document.querySelector('#df-f475f528-c78e-482e-be38-cbdeaad8adfc button.colab-df-convert');\n",
              "      buttonEl.style.display =\n",
              "        google.colab.kernel.accessAllowed ? 'block' : 'none';\n",
              "\n",
              "      async function convertToInteractive(key) {\n",
              "        const element = document.querySelector('#df-f475f528-c78e-482e-be38-cbdeaad8adfc');\n",
              "        const dataTable =\n",
              "          await google.colab.kernel.invokeFunction('convertToInteractive',\n",
              "                                                    [key], {});\n",
              "        if (!dataTable) return;\n",
              "\n",
              "        const docLinkHtml = 'Like what you see? Visit the ' +\n",
              "          '<a target=\"_blank\" href=https://colab.research.google.com/notebooks/data_table.ipynb>data table notebook</a>'\n",
              "          + ' to learn more about interactive tables.';\n",
              "        element.innerHTML = '';\n",
              "        dataTable['output_type'] = 'display_data';\n",
              "        await google.colab.output.renderOutput(dataTable, element);\n",
              "        const docLink = document.createElement('div');\n",
              "        docLink.innerHTML = docLinkHtml;\n",
              "        element.appendChild(docLink);\n",
              "      }\n",
              "    </script>\n",
              "  </div>\n",
              "\n",
              "\n",
              "<div id=\"df-07da26e1-3e4f-4fc2-8445-5ae4856081d3\">\n",
              "  <button class=\"colab-df-quickchart\" onclick=\"quickchart('df-07da26e1-3e4f-4fc2-8445-5ae4856081d3')\"\n",
              "            title=\"Suggest charts\"\n",
              "            style=\"display:none;\">\n",
              "\n",
              "<svg xmlns=\"http://www.w3.org/2000/svg\" height=\"24px\"viewBox=\"0 0 24 24\"\n",
              "     width=\"24px\">\n",
              "    <g>\n",
              "        <path d=\"M19 3H5c-1.1 0-2 .9-2 2v14c0 1.1.9 2 2 2h14c1.1 0 2-.9 2-2V5c0-1.1-.9-2-2-2zM9 17H7v-7h2v7zm4 0h-2V7h2v10zm4 0h-2v-4h2v4z\"/>\n",
              "    </g>\n",
              "</svg>\n",
              "  </button>\n",
              "\n",
              "<style>\n",
              "  .colab-df-quickchart {\n",
              "      --bg-color: #E8F0FE;\n",
              "      --fill-color: #1967D2;\n",
              "      --hover-bg-color: #E2EBFA;\n",
              "      --hover-fill-color: #174EA6;\n",
              "      --disabled-fill-color: #AAA;\n",
              "      --disabled-bg-color: #DDD;\n",
              "  }\n",
              "\n",
              "  [theme=dark] .colab-df-quickchart {\n",
              "      --bg-color: #3B4455;\n",
              "      --fill-color: #D2E3FC;\n",
              "      --hover-bg-color: #434B5C;\n",
              "      --hover-fill-color: #FFFFFF;\n",
              "      --disabled-bg-color: #3B4455;\n",
              "      --disabled-fill-color: #666;\n",
              "  }\n",
              "\n",
              "  .colab-df-quickchart {\n",
              "    background-color: var(--bg-color);\n",
              "    border: none;\n",
              "    border-radius: 50%;\n",
              "    cursor: pointer;\n",
              "    display: none;\n",
              "    fill: var(--fill-color);\n",
              "    height: 32px;\n",
              "    padding: 0;\n",
              "    width: 32px;\n",
              "  }\n",
              "\n",
              "  .colab-df-quickchart:hover {\n",
              "    background-color: var(--hover-bg-color);\n",
              "    box-shadow: 0 1px 2px rgba(60, 64, 67, 0.3), 0 1px 3px 1px rgba(60, 64, 67, 0.15);\n",
              "    fill: var(--button-hover-fill-color);\n",
              "  }\n",
              "\n",
              "  .colab-df-quickchart-complete:disabled,\n",
              "  .colab-df-quickchart-complete:disabled:hover {\n",
              "    background-color: var(--disabled-bg-color);\n",
              "    fill: var(--disabled-fill-color);\n",
              "    box-shadow: none;\n",
              "  }\n",
              "\n",
              "  .colab-df-spinner {\n",
              "    border: 2px solid var(--fill-color);\n",
              "    border-color: transparent;\n",
              "    border-bottom-color: var(--fill-color);\n",
              "    animation:\n",
              "      spin 1s steps(1) infinite;\n",
              "  }\n",
              "\n",
              "  @keyframes spin {\n",
              "    0% {\n",
              "      border-color: transparent;\n",
              "      border-bottom-color: var(--fill-color);\n",
              "      border-left-color: var(--fill-color);\n",
              "    }\n",
              "    20% {\n",
              "      border-color: transparent;\n",
              "      border-left-color: var(--fill-color);\n",
              "      border-top-color: var(--fill-color);\n",
              "    }\n",
              "    30% {\n",
              "      border-color: transparent;\n",
              "      border-left-color: var(--fill-color);\n",
              "      border-top-color: var(--fill-color);\n",
              "      border-right-color: var(--fill-color);\n",
              "    }\n",
              "    40% {\n",
              "      border-color: transparent;\n",
              "      border-right-color: var(--fill-color);\n",
              "      border-top-color: var(--fill-color);\n",
              "    }\n",
              "    60% {\n",
              "      border-color: transparent;\n",
              "      border-right-color: var(--fill-color);\n",
              "    }\n",
              "    80% {\n",
              "      border-color: transparent;\n",
              "      border-right-color: var(--fill-color);\n",
              "      border-bottom-color: var(--fill-color);\n",
              "    }\n",
              "    90% {\n",
              "      border-color: transparent;\n",
              "      border-bottom-color: var(--fill-color);\n",
              "    }\n",
              "  }\n",
              "</style>\n",
              "\n",
              "  <script>\n",
              "    async function quickchart(key) {\n",
              "      const quickchartButtonEl =\n",
              "        document.querySelector('#' + key + ' button');\n",
              "      quickchartButtonEl.disabled = true;  // To prevent multiple clicks.\n",
              "      quickchartButtonEl.classList.add('colab-df-spinner');\n",
              "      try {\n",
              "        const charts = await google.colab.kernel.invokeFunction(\n",
              "            'suggestCharts', [key], {});\n",
              "      } catch (error) {\n",
              "        console.error('Error during call to suggestCharts:', error);\n",
              "      }\n",
              "      quickchartButtonEl.classList.remove('colab-df-spinner');\n",
              "      quickchartButtonEl.classList.add('colab-df-quickchart-complete');\n",
              "    }\n",
              "    (() => {\n",
              "      let quickchartButtonEl =\n",
              "        document.querySelector('#df-07da26e1-3e4f-4fc2-8445-5ae4856081d3 button');\n",
              "      quickchartButtonEl.style.display =\n",
              "        google.colab.kernel.accessAllowed ? 'block' : 'none';\n",
              "    })();\n",
              "  </script>\n",
              "</div>\n",
              "    </div>\n",
              "  </div>\n"
            ]
          },
          "metadata": {},
          "execution_count": 14
        }
      ]
    },
    {
      "cell_type": "markdown",
      "source": [
        "## นับ Payment Method มีกี่วิธี\n",
        " >>> ตัวอย่าง 4 วิธี ดังนี้"
      ],
      "metadata": {
        "id": "R66yx0aR4ajn"
      }
    },
    {
      "cell_type": "code",
      "source": [
        "shopping_data.groupby('payment_method').count()"
      ],
      "metadata": {
        "id": "lgcBZ3JT5uSJ",
        "outputId": "581cf263-37bb-4965-a95d-17413bec385e",
        "colab": {
          "base_uri": "https://localhost:8080/",
          "height": 175
        }
      },
      "execution_count": 15,
      "outputs": [
        {
          "output_type": "execute_result",
          "data": {
            "text/plain": [
              "                invoice_no  customer_id  gender    age  category  quantity  \\\n",
              "payment_method                                                               \n",
              "Cash                 44447        44447   44447  44447     44447     44447   \n",
              "Credit Card          34931        34931   34931  34931     34931     34931   \n",
              "Debit Card           20079        20079   20079  20079     20079     20079   \n",
              "\n",
              "                price  invoice_date  shopping_mall  \n",
              "payment_method                                      \n",
              "Cash            44447         44447          44447  \n",
              "Credit Card     34931         34931          34931  \n",
              "Debit Card      20079         20079          20079  "
            ],
            "text/html": [
              "\n",
              "  <div id=\"df-9eed3077-e696-46b2-9bc3-ac039166bd9c\" class=\"colab-df-container\">\n",
              "    <div>\n",
              "<style scoped>\n",
              "    .dataframe tbody tr th:only-of-type {\n",
              "        vertical-align: middle;\n",
              "    }\n",
              "\n",
              "    .dataframe tbody tr th {\n",
              "        vertical-align: top;\n",
              "    }\n",
              "\n",
              "    .dataframe thead th {\n",
              "        text-align: right;\n",
              "    }\n",
              "</style>\n",
              "<table border=\"1\" class=\"dataframe\">\n",
              "  <thead>\n",
              "    <tr style=\"text-align: right;\">\n",
              "      <th></th>\n",
              "      <th>invoice_no</th>\n",
              "      <th>customer_id</th>\n",
              "      <th>gender</th>\n",
              "      <th>age</th>\n",
              "      <th>category</th>\n",
              "      <th>quantity</th>\n",
              "      <th>price</th>\n",
              "      <th>invoice_date</th>\n",
              "      <th>shopping_mall</th>\n",
              "    </tr>\n",
              "    <tr>\n",
              "      <th>payment_method</th>\n",
              "      <th></th>\n",
              "      <th></th>\n",
              "      <th></th>\n",
              "      <th></th>\n",
              "      <th></th>\n",
              "      <th></th>\n",
              "      <th></th>\n",
              "      <th></th>\n",
              "      <th></th>\n",
              "    </tr>\n",
              "  </thead>\n",
              "  <tbody>\n",
              "    <tr>\n",
              "      <th>Cash</th>\n",
              "      <td>44447</td>\n",
              "      <td>44447</td>\n",
              "      <td>44447</td>\n",
              "      <td>44447</td>\n",
              "      <td>44447</td>\n",
              "      <td>44447</td>\n",
              "      <td>44447</td>\n",
              "      <td>44447</td>\n",
              "      <td>44447</td>\n",
              "    </tr>\n",
              "    <tr>\n",
              "      <th>Credit Card</th>\n",
              "      <td>34931</td>\n",
              "      <td>34931</td>\n",
              "      <td>34931</td>\n",
              "      <td>34931</td>\n",
              "      <td>34931</td>\n",
              "      <td>34931</td>\n",
              "      <td>34931</td>\n",
              "      <td>34931</td>\n",
              "      <td>34931</td>\n",
              "    </tr>\n",
              "    <tr>\n",
              "      <th>Debit Card</th>\n",
              "      <td>20079</td>\n",
              "      <td>20079</td>\n",
              "      <td>20079</td>\n",
              "      <td>20079</td>\n",
              "      <td>20079</td>\n",
              "      <td>20079</td>\n",
              "      <td>20079</td>\n",
              "      <td>20079</td>\n",
              "      <td>20079</td>\n",
              "    </tr>\n",
              "  </tbody>\n",
              "</table>\n",
              "</div>\n",
              "    <div class=\"colab-df-buttons\">\n",
              "\n",
              "  <div class=\"colab-df-container\">\n",
              "    <button class=\"colab-df-convert\" onclick=\"convertToInteractive('df-9eed3077-e696-46b2-9bc3-ac039166bd9c')\"\n",
              "            title=\"Convert this dataframe to an interactive table.\"\n",
              "            style=\"display:none;\">\n",
              "\n",
              "  <svg xmlns=\"http://www.w3.org/2000/svg\" height=\"24px\" viewBox=\"0 -960 960 960\">\n",
              "    <path d=\"M120-120v-720h720v720H120Zm60-500h600v-160H180v160Zm220 220h160v-160H400v160Zm0 220h160v-160H400v160ZM180-400h160v-160H180v160Zm440 0h160v-160H620v160ZM180-180h160v-160H180v160Zm440 0h160v-160H620v160Z\"/>\n",
              "  </svg>\n",
              "    </button>\n",
              "\n",
              "  <style>\n",
              "    .colab-df-container {\n",
              "      display:flex;\n",
              "      gap: 12px;\n",
              "    }\n",
              "\n",
              "    .colab-df-convert {\n",
              "      background-color: #E8F0FE;\n",
              "      border: none;\n",
              "      border-radius: 50%;\n",
              "      cursor: pointer;\n",
              "      display: none;\n",
              "      fill: #1967D2;\n",
              "      height: 32px;\n",
              "      padding: 0 0 0 0;\n",
              "      width: 32px;\n",
              "    }\n",
              "\n",
              "    .colab-df-convert:hover {\n",
              "      background-color: #E2EBFA;\n",
              "      box-shadow: 0px 1px 2px rgba(60, 64, 67, 0.3), 0px 1px 3px 1px rgba(60, 64, 67, 0.15);\n",
              "      fill: #174EA6;\n",
              "    }\n",
              "\n",
              "    .colab-df-buttons div {\n",
              "      margin-bottom: 4px;\n",
              "    }\n",
              "\n",
              "    [theme=dark] .colab-df-convert {\n",
              "      background-color: #3B4455;\n",
              "      fill: #D2E3FC;\n",
              "    }\n",
              "\n",
              "    [theme=dark] .colab-df-convert:hover {\n",
              "      background-color: #434B5C;\n",
              "      box-shadow: 0px 1px 3px 1px rgba(0, 0, 0, 0.15);\n",
              "      filter: drop-shadow(0px 1px 2px rgba(0, 0, 0, 0.3));\n",
              "      fill: #FFFFFF;\n",
              "    }\n",
              "  </style>\n",
              "\n",
              "    <script>\n",
              "      const buttonEl =\n",
              "        document.querySelector('#df-9eed3077-e696-46b2-9bc3-ac039166bd9c button.colab-df-convert');\n",
              "      buttonEl.style.display =\n",
              "        google.colab.kernel.accessAllowed ? 'block' : 'none';\n",
              "\n",
              "      async function convertToInteractive(key) {\n",
              "        const element = document.querySelector('#df-9eed3077-e696-46b2-9bc3-ac039166bd9c');\n",
              "        const dataTable =\n",
              "          await google.colab.kernel.invokeFunction('convertToInteractive',\n",
              "                                                    [key], {});\n",
              "        if (!dataTable) return;\n",
              "\n",
              "        const docLinkHtml = 'Like what you see? Visit the ' +\n",
              "          '<a target=\"_blank\" href=https://colab.research.google.com/notebooks/data_table.ipynb>data table notebook</a>'\n",
              "          + ' to learn more about interactive tables.';\n",
              "        element.innerHTML = '';\n",
              "        dataTable['output_type'] = 'display_data';\n",
              "        await google.colab.output.renderOutput(dataTable, element);\n",
              "        const docLink = document.createElement('div');\n",
              "        docLink.innerHTML = docLinkHtml;\n",
              "        element.appendChild(docLink);\n",
              "      }\n",
              "    </script>\n",
              "  </div>\n",
              "\n",
              "\n",
              "<div id=\"df-95e4c27d-d99b-4a32-9028-f2363167f2b7\">\n",
              "  <button class=\"colab-df-quickchart\" onclick=\"quickchart('df-95e4c27d-d99b-4a32-9028-f2363167f2b7')\"\n",
              "            title=\"Suggest charts\"\n",
              "            style=\"display:none;\">\n",
              "\n",
              "<svg xmlns=\"http://www.w3.org/2000/svg\" height=\"24px\"viewBox=\"0 0 24 24\"\n",
              "     width=\"24px\">\n",
              "    <g>\n",
              "        <path d=\"M19 3H5c-1.1 0-2 .9-2 2v14c0 1.1.9 2 2 2h14c1.1 0 2-.9 2-2V5c0-1.1-.9-2-2-2zM9 17H7v-7h2v7zm4 0h-2V7h2v10zm4 0h-2v-4h2v4z\"/>\n",
              "    </g>\n",
              "</svg>\n",
              "  </button>\n",
              "\n",
              "<style>\n",
              "  .colab-df-quickchart {\n",
              "      --bg-color: #E8F0FE;\n",
              "      --fill-color: #1967D2;\n",
              "      --hover-bg-color: #E2EBFA;\n",
              "      --hover-fill-color: #174EA6;\n",
              "      --disabled-fill-color: #AAA;\n",
              "      --disabled-bg-color: #DDD;\n",
              "  }\n",
              "\n",
              "  [theme=dark] .colab-df-quickchart {\n",
              "      --bg-color: #3B4455;\n",
              "      --fill-color: #D2E3FC;\n",
              "      --hover-bg-color: #434B5C;\n",
              "      --hover-fill-color: #FFFFFF;\n",
              "      --disabled-bg-color: #3B4455;\n",
              "      --disabled-fill-color: #666;\n",
              "  }\n",
              "\n",
              "  .colab-df-quickchart {\n",
              "    background-color: var(--bg-color);\n",
              "    border: none;\n",
              "    border-radius: 50%;\n",
              "    cursor: pointer;\n",
              "    display: none;\n",
              "    fill: var(--fill-color);\n",
              "    height: 32px;\n",
              "    padding: 0;\n",
              "    width: 32px;\n",
              "  }\n",
              "\n",
              "  .colab-df-quickchart:hover {\n",
              "    background-color: var(--hover-bg-color);\n",
              "    box-shadow: 0 1px 2px rgba(60, 64, 67, 0.3), 0 1px 3px 1px rgba(60, 64, 67, 0.15);\n",
              "    fill: var(--button-hover-fill-color);\n",
              "  }\n",
              "\n",
              "  .colab-df-quickchart-complete:disabled,\n",
              "  .colab-df-quickchart-complete:disabled:hover {\n",
              "    background-color: var(--disabled-bg-color);\n",
              "    fill: var(--disabled-fill-color);\n",
              "    box-shadow: none;\n",
              "  }\n",
              "\n",
              "  .colab-df-spinner {\n",
              "    border: 2px solid var(--fill-color);\n",
              "    border-color: transparent;\n",
              "    border-bottom-color: var(--fill-color);\n",
              "    animation:\n",
              "      spin 1s steps(1) infinite;\n",
              "  }\n",
              "\n",
              "  @keyframes spin {\n",
              "    0% {\n",
              "      border-color: transparent;\n",
              "      border-bottom-color: var(--fill-color);\n",
              "      border-left-color: var(--fill-color);\n",
              "    }\n",
              "    20% {\n",
              "      border-color: transparent;\n",
              "      border-left-color: var(--fill-color);\n",
              "      border-top-color: var(--fill-color);\n",
              "    }\n",
              "    30% {\n",
              "      border-color: transparent;\n",
              "      border-left-color: var(--fill-color);\n",
              "      border-top-color: var(--fill-color);\n",
              "      border-right-color: var(--fill-color);\n",
              "    }\n",
              "    40% {\n",
              "      border-color: transparent;\n",
              "      border-right-color: var(--fill-color);\n",
              "      border-top-color: var(--fill-color);\n",
              "    }\n",
              "    60% {\n",
              "      border-color: transparent;\n",
              "      border-right-color: var(--fill-color);\n",
              "    }\n",
              "    80% {\n",
              "      border-color: transparent;\n",
              "      border-right-color: var(--fill-color);\n",
              "      border-bottom-color: var(--fill-color);\n",
              "    }\n",
              "    90% {\n",
              "      border-color: transparent;\n",
              "      border-bottom-color: var(--fill-color);\n",
              "    }\n",
              "  }\n",
              "</style>\n",
              "\n",
              "  <script>\n",
              "    async function quickchart(key) {\n",
              "      const quickchartButtonEl =\n",
              "        document.querySelector('#' + key + ' button');\n",
              "      quickchartButtonEl.disabled = true;  // To prevent multiple clicks.\n",
              "      quickchartButtonEl.classList.add('colab-df-spinner');\n",
              "      try {\n",
              "        const charts = await google.colab.kernel.invokeFunction(\n",
              "            'suggestCharts', [key], {});\n",
              "      } catch (error) {\n",
              "        console.error('Error during call to suggestCharts:', error);\n",
              "      }\n",
              "      quickchartButtonEl.classList.remove('colab-df-spinner');\n",
              "      quickchartButtonEl.classList.add('colab-df-quickchart-complete');\n",
              "    }\n",
              "    (() => {\n",
              "      let quickchartButtonEl =\n",
              "        document.querySelector('#df-95e4c27d-d99b-4a32-9028-f2363167f2b7 button');\n",
              "      quickchartButtonEl.style.display =\n",
              "        google.colab.kernel.accessAllowed ? 'block' : 'none';\n",
              "    })();\n",
              "  </script>\n",
              "</div>\n",
              "    </div>\n",
              "  </div>\n"
            ]
          },
          "metadata": {},
          "execution_count": 15
        }
      ]
    },
    {
      "cell_type": "code",
      "source": [
        "shopping_data.value_counts('payment_method')"
      ],
      "metadata": {
        "id": "ADBbxRUJ5fMI",
        "outputId": "2390ed69-cf45-4232-febe-77e4072bda03",
        "colab": {
          "base_uri": "https://localhost:8080/"
        }
      },
      "execution_count": 16,
      "outputs": [
        {
          "output_type": "execute_result",
          "data": {
            "text/plain": [
              "payment_method\n",
              "Cash           44447\n",
              "Credit Card    34931\n",
              "Debit Card     20079\n",
              "dtype: int64"
            ]
          },
          "metadata": {},
          "execution_count": 16
        }
      ]
    },
    {
      "cell_type": "code",
      "source": [
        "shopping_data['payment_method'].unique()"
      ],
      "metadata": {
        "id": "1ppCVSBw5QNJ",
        "outputId": "fca026d1-f6b5-4800-d13c-d4140f0f0083",
        "colab": {
          "base_uri": "https://localhost:8080/"
        }
      },
      "execution_count": 17,
      "outputs": [
        {
          "output_type": "execute_result",
          "data": {
            "text/plain": [
              "array(['Credit Card', 'Debit Card', 'Cash'], dtype=object)"
            ]
          },
          "metadata": {},
          "execution_count": 17
        }
      ]
    },
    {
      "cell_type": "code",
      "source": [
        "set(shopping_data['payment_method'])"
      ],
      "metadata": {
        "id": "dIIKofsx5A7_",
        "outputId": "29da2e87-482d-4521-e895-2533b74a831c",
        "colab": {
          "base_uri": "https://localhost:8080/"
        }
      },
      "execution_count": null,
      "outputs": [
        {
          "output_type": "execute_result",
          "data": {
            "text/plain": [
              "{'Cash', 'Credit Card', 'Debit Card'}"
            ]
          },
          "metadata": {},
          "execution_count": 33
        }
      ]
    },
    {
      "cell_type": "markdown",
      "source": [
        "## Avg Purchase Amount (USD) of customer age above 40 year ?"
      ],
      "metadata": {
        "id": "zhFC-pU56Byb"
      }
    },
    {
      "cell_type": "code",
      "source": [
        "shopping_data[shopping_data['age']>40].describe()"
      ],
      "metadata": {
        "id": "RcDlM-oG6Uzw",
        "outputId": "ce5142a5-d24a-4e9b-fc96-befc4ba160ab",
        "colab": {
          "base_uri": "https://localhost:8080/",
          "height": 300
        }
      },
      "execution_count": null,
      "outputs": [
        {
          "output_type": "execute_result",
          "data": {
            "text/plain": [
              "                age      quantity         price\n",
              "count  55167.000000  55167.000000  55167.000000\n",
              "mean      54.976743      3.003426    690.853136\n",
              "std        8.374926      1.412343    942.539041\n",
              "min       41.000000      1.000000      5.230000\n",
              "25%       48.000000      2.000000     45.450000\n",
              "50%       55.000000      3.000000    203.300000\n",
              "75%       62.000000      4.000000   1200.320000\n",
              "max       69.000000      5.000000   5250.000000"
            ],
            "text/html": [
              "\n",
              "  <div id=\"df-c499259d-a3f7-470f-9dfe-664d319f154f\" class=\"colab-df-container\">\n",
              "    <div>\n",
              "<style scoped>\n",
              "    .dataframe tbody tr th:only-of-type {\n",
              "        vertical-align: middle;\n",
              "    }\n",
              "\n",
              "    .dataframe tbody tr th {\n",
              "        vertical-align: top;\n",
              "    }\n",
              "\n",
              "    .dataframe thead th {\n",
              "        text-align: right;\n",
              "    }\n",
              "</style>\n",
              "<table border=\"1\" class=\"dataframe\">\n",
              "  <thead>\n",
              "    <tr style=\"text-align: right;\">\n",
              "      <th></th>\n",
              "      <th>age</th>\n",
              "      <th>quantity</th>\n",
              "      <th>price</th>\n",
              "    </tr>\n",
              "  </thead>\n",
              "  <tbody>\n",
              "    <tr>\n",
              "      <th>count</th>\n",
              "      <td>55167.000000</td>\n",
              "      <td>55167.000000</td>\n",
              "      <td>55167.000000</td>\n",
              "    </tr>\n",
              "    <tr>\n",
              "      <th>mean</th>\n",
              "      <td>54.976743</td>\n",
              "      <td>3.003426</td>\n",
              "      <td>690.853136</td>\n",
              "    </tr>\n",
              "    <tr>\n",
              "      <th>std</th>\n",
              "      <td>8.374926</td>\n",
              "      <td>1.412343</td>\n",
              "      <td>942.539041</td>\n",
              "    </tr>\n",
              "    <tr>\n",
              "      <th>min</th>\n",
              "      <td>41.000000</td>\n",
              "      <td>1.000000</td>\n",
              "      <td>5.230000</td>\n",
              "    </tr>\n",
              "    <tr>\n",
              "      <th>25%</th>\n",
              "      <td>48.000000</td>\n",
              "      <td>2.000000</td>\n",
              "      <td>45.450000</td>\n",
              "    </tr>\n",
              "    <tr>\n",
              "      <th>50%</th>\n",
              "      <td>55.000000</td>\n",
              "      <td>3.000000</td>\n",
              "      <td>203.300000</td>\n",
              "    </tr>\n",
              "    <tr>\n",
              "      <th>75%</th>\n",
              "      <td>62.000000</td>\n",
              "      <td>4.000000</td>\n",
              "      <td>1200.320000</td>\n",
              "    </tr>\n",
              "    <tr>\n",
              "      <th>max</th>\n",
              "      <td>69.000000</td>\n",
              "      <td>5.000000</td>\n",
              "      <td>5250.000000</td>\n",
              "    </tr>\n",
              "  </tbody>\n",
              "</table>\n",
              "</div>\n",
              "    <div class=\"colab-df-buttons\">\n",
              "\n",
              "  <div class=\"colab-df-container\">\n",
              "    <button class=\"colab-df-convert\" onclick=\"convertToInteractive('df-c499259d-a3f7-470f-9dfe-664d319f154f')\"\n",
              "            title=\"Convert this dataframe to an interactive table.\"\n",
              "            style=\"display:none;\">\n",
              "\n",
              "  <svg xmlns=\"http://www.w3.org/2000/svg\" height=\"24px\" viewBox=\"0 -960 960 960\">\n",
              "    <path d=\"M120-120v-720h720v720H120Zm60-500h600v-160H180v160Zm220 220h160v-160H400v160Zm0 220h160v-160H400v160ZM180-400h160v-160H180v160Zm440 0h160v-160H620v160ZM180-180h160v-160H180v160Zm440 0h160v-160H620v160Z\"/>\n",
              "  </svg>\n",
              "    </button>\n",
              "\n",
              "  <style>\n",
              "    .colab-df-container {\n",
              "      display:flex;\n",
              "      gap: 12px;\n",
              "    }\n",
              "\n",
              "    .colab-df-convert {\n",
              "      background-color: #E8F0FE;\n",
              "      border: none;\n",
              "      border-radius: 50%;\n",
              "      cursor: pointer;\n",
              "      display: none;\n",
              "      fill: #1967D2;\n",
              "      height: 32px;\n",
              "      padding: 0 0 0 0;\n",
              "      width: 32px;\n",
              "    }\n",
              "\n",
              "    .colab-df-convert:hover {\n",
              "      background-color: #E2EBFA;\n",
              "      box-shadow: 0px 1px 2px rgba(60, 64, 67, 0.3), 0px 1px 3px 1px rgba(60, 64, 67, 0.15);\n",
              "      fill: #174EA6;\n",
              "    }\n",
              "\n",
              "    .colab-df-buttons div {\n",
              "      margin-bottom: 4px;\n",
              "    }\n",
              "\n",
              "    [theme=dark] .colab-df-convert {\n",
              "      background-color: #3B4455;\n",
              "      fill: #D2E3FC;\n",
              "    }\n",
              "\n",
              "    [theme=dark] .colab-df-convert:hover {\n",
              "      background-color: #434B5C;\n",
              "      box-shadow: 0px 1px 3px 1px rgba(0, 0, 0, 0.15);\n",
              "      filter: drop-shadow(0px 1px 2px rgba(0, 0, 0, 0.3));\n",
              "      fill: #FFFFFF;\n",
              "    }\n",
              "  </style>\n",
              "\n",
              "    <script>\n",
              "      const buttonEl =\n",
              "        document.querySelector('#df-c499259d-a3f7-470f-9dfe-664d319f154f button.colab-df-convert');\n",
              "      buttonEl.style.display =\n",
              "        google.colab.kernel.accessAllowed ? 'block' : 'none';\n",
              "\n",
              "      async function convertToInteractive(key) {\n",
              "        const element = document.querySelector('#df-c499259d-a3f7-470f-9dfe-664d319f154f');\n",
              "        const dataTable =\n",
              "          await google.colab.kernel.invokeFunction('convertToInteractive',\n",
              "                                                    [key], {});\n",
              "        if (!dataTable) return;\n",
              "\n",
              "        const docLinkHtml = 'Like what you see? Visit the ' +\n",
              "          '<a target=\"_blank\" href=https://colab.research.google.com/notebooks/data_table.ipynb>data table notebook</a>'\n",
              "          + ' to learn more about interactive tables.';\n",
              "        element.innerHTML = '';\n",
              "        dataTable['output_type'] = 'display_data';\n",
              "        await google.colab.output.renderOutput(dataTable, element);\n",
              "        const docLink = document.createElement('div');\n",
              "        docLink.innerHTML = docLinkHtml;\n",
              "        element.appendChild(docLink);\n",
              "      }\n",
              "    </script>\n",
              "  </div>\n",
              "\n",
              "\n",
              "<div id=\"df-48d8b8cb-ec87-422a-90ee-9adf8955fbb6\">\n",
              "  <button class=\"colab-df-quickchart\" onclick=\"quickchart('df-48d8b8cb-ec87-422a-90ee-9adf8955fbb6')\"\n",
              "            title=\"Suggest charts\"\n",
              "            style=\"display:none;\">\n",
              "\n",
              "<svg xmlns=\"http://www.w3.org/2000/svg\" height=\"24px\"viewBox=\"0 0 24 24\"\n",
              "     width=\"24px\">\n",
              "    <g>\n",
              "        <path d=\"M19 3H5c-1.1 0-2 .9-2 2v14c0 1.1.9 2 2 2h14c1.1 0 2-.9 2-2V5c0-1.1-.9-2-2-2zM9 17H7v-7h2v7zm4 0h-2V7h2v10zm4 0h-2v-4h2v4z\"/>\n",
              "    </g>\n",
              "</svg>\n",
              "  </button>\n",
              "\n",
              "<style>\n",
              "  .colab-df-quickchart {\n",
              "      --bg-color: #E8F0FE;\n",
              "      --fill-color: #1967D2;\n",
              "      --hover-bg-color: #E2EBFA;\n",
              "      --hover-fill-color: #174EA6;\n",
              "      --disabled-fill-color: #AAA;\n",
              "      --disabled-bg-color: #DDD;\n",
              "  }\n",
              "\n",
              "  [theme=dark] .colab-df-quickchart {\n",
              "      --bg-color: #3B4455;\n",
              "      --fill-color: #D2E3FC;\n",
              "      --hover-bg-color: #434B5C;\n",
              "      --hover-fill-color: #FFFFFF;\n",
              "      --disabled-bg-color: #3B4455;\n",
              "      --disabled-fill-color: #666;\n",
              "  }\n",
              "\n",
              "  .colab-df-quickchart {\n",
              "    background-color: var(--bg-color);\n",
              "    border: none;\n",
              "    border-radius: 50%;\n",
              "    cursor: pointer;\n",
              "    display: none;\n",
              "    fill: var(--fill-color);\n",
              "    height: 32px;\n",
              "    padding: 0;\n",
              "    width: 32px;\n",
              "  }\n",
              "\n",
              "  .colab-df-quickchart:hover {\n",
              "    background-color: var(--hover-bg-color);\n",
              "    box-shadow: 0 1px 2px rgba(60, 64, 67, 0.3), 0 1px 3px 1px rgba(60, 64, 67, 0.15);\n",
              "    fill: var(--button-hover-fill-color);\n",
              "  }\n",
              "\n",
              "  .colab-df-quickchart-complete:disabled,\n",
              "  .colab-df-quickchart-complete:disabled:hover {\n",
              "    background-color: var(--disabled-bg-color);\n",
              "    fill: var(--disabled-fill-color);\n",
              "    box-shadow: none;\n",
              "  }\n",
              "\n",
              "  .colab-df-spinner {\n",
              "    border: 2px solid var(--fill-color);\n",
              "    border-color: transparent;\n",
              "    border-bottom-color: var(--fill-color);\n",
              "    animation:\n",
              "      spin 1s steps(1) infinite;\n",
              "  }\n",
              "\n",
              "  @keyframes spin {\n",
              "    0% {\n",
              "      border-color: transparent;\n",
              "      border-bottom-color: var(--fill-color);\n",
              "      border-left-color: var(--fill-color);\n",
              "    }\n",
              "    20% {\n",
              "      border-color: transparent;\n",
              "      border-left-color: var(--fill-color);\n",
              "      border-top-color: var(--fill-color);\n",
              "    }\n",
              "    30% {\n",
              "      border-color: transparent;\n",
              "      border-left-color: var(--fill-color);\n",
              "      border-top-color: var(--fill-color);\n",
              "      border-right-color: var(--fill-color);\n",
              "    }\n",
              "    40% {\n",
              "      border-color: transparent;\n",
              "      border-right-color: var(--fill-color);\n",
              "      border-top-color: var(--fill-color);\n",
              "    }\n",
              "    60% {\n",
              "      border-color: transparent;\n",
              "      border-right-color: var(--fill-color);\n",
              "    }\n",
              "    80% {\n",
              "      border-color: transparent;\n",
              "      border-right-color: var(--fill-color);\n",
              "      border-bottom-color: var(--fill-color);\n",
              "    }\n",
              "    90% {\n",
              "      border-color: transparent;\n",
              "      border-bottom-color: var(--fill-color);\n",
              "    }\n",
              "  }\n",
              "</style>\n",
              "\n",
              "  <script>\n",
              "    async function quickchart(key) {\n",
              "      const quickchartButtonEl =\n",
              "        document.querySelector('#' + key + ' button');\n",
              "      quickchartButtonEl.disabled = true;  // To prevent multiple clicks.\n",
              "      quickchartButtonEl.classList.add('colab-df-spinner');\n",
              "      try {\n",
              "        const charts = await google.colab.kernel.invokeFunction(\n",
              "            'suggestCharts', [key], {});\n",
              "      } catch (error) {\n",
              "        console.error('Error during call to suggestCharts:', error);\n",
              "      }\n",
              "      quickchartButtonEl.classList.remove('colab-df-spinner');\n",
              "      quickchartButtonEl.classList.add('colab-df-quickchart-complete');\n",
              "    }\n",
              "    (() => {\n",
              "      let quickchartButtonEl =\n",
              "        document.querySelector('#df-48d8b8cb-ec87-422a-90ee-9adf8955fbb6 button');\n",
              "      quickchartButtonEl.style.display =\n",
              "        google.colab.kernel.accessAllowed ? 'block' : 'none';\n",
              "    })();\n",
              "  </script>\n",
              "</div>\n",
              "    </div>\n",
              "  </div>\n"
            ]
          },
          "metadata": {},
          "execution_count": 35
        }
      ]
    },
    {
      "cell_type": "markdown",
      "source": [
        "#Visualization"
      ],
      "metadata": {
        "id": "ytaTSKfKBnuT"
      }
    },
    {
      "cell_type": "code",
      "source": [
        "from matplotlib import pyplot as plt ## เริ่มต้นของทุกกราฟ"
      ],
      "metadata": {
        "id": "YTqPqU5W7i00"
      },
      "execution_count": 19,
      "outputs": []
    },
    {
      "cell_type": "markdown",
      "source": [
        "#Histogram"
      ],
      "metadata": {
        "id": "tWnEx_g-7bmx"
      }
    },
    {
      "cell_type": "markdown",
      "source": [
        "## การกระจายของสาขา"
      ],
      "metadata": {
        "id": "ABcpqLHM770L"
      }
    },
    {
      "cell_type": "code",
      "source": [
        "histoutput = plt.hist(shopping_data['shopping_mall'])\n",
        "tickhist = plt.xticks(rotation='vertical');"
      ],
      "metadata": {
        "id": "RGuTohY38IvS",
        "outputId": "3364d184-0958-48ea-cbe5-0e124baa9df5",
        "colab": {
          "base_uri": "https://localhost:8080/",
          "height": 547
        }
      },
      "execution_count": 21,
      "outputs": [
        {
          "output_type": "display_data",
          "data": {
            "text/plain": [
              "<Figure size 640x480 with 1 Axes>"
            ],
            "image/png": "[encoded data removed]"
          },
          "metadata": {}
        }
      ]
    },
    {
      "cell_type": "code",
      "source": [
        "histoutput [0]"
      ],
      "metadata": {
        "id": "gGwvcPz0AA59",
        "outputId": "1bf23050-a43f-4514-a961-71a24a402ecb",
        "colab": {
          "base_uri": "https://localhost:8080/"
        }
      },
      "execution_count": null,
      "outputs": [
        {
          "output_type": "execute_result",
          "data": {
            "text/plain": [
              "array([19823.,  4947., 15011., 10161.,  9781., 19943.,  4811.,  4991.,\n",
              "        4914.,  5075.])"
            ]
          },
          "metadata": {},
          "execution_count": 49
        }
      ]
    },
    {
      "cell_type": "code",
      "source": [
        "tickhist[-1]"
      ],
      "metadata": {
        "id": "4SHCtvRYA2fQ",
        "outputId": "8907e6f6-7ce7-4f32-dcd8-cec444a53ba2",
        "colab": {
          "base_uri": "https://localhost:8080/"
        }
      },
      "execution_count": null,
      "outputs": [
        {
          "output_type": "execute_result",
          "data": {
            "text/plain": [
              "[Text(0, 0, 'Kanyon'),\n",
              " Text(1, 0, 'Forum Istanbul'),\n",
              " Text(2, 0, 'Metrocity'),\n",
              " Text(3, 0, 'Metropol AVM'),\n",
              " Text(4, 0, 'Istinye Park'),\n",
              " Text(5, 0, 'Mall of Istanbul'),\n",
              " Text(6, 0, 'Emaar Square Mall'),\n",
              " Text(7, 0, 'Cevahir AVM'),\n",
              " Text(8, 0, 'Viaport Outlet'),\n",
              " Text(9, 0, 'Zorlu Center')]"
            ]
          },
          "metadata": {},
          "execution_count": 50
        }
      ]
    },
    {
      "cell_type": "code",
      "source": [
        "tickhist[-1][0].get_text()"
      ],
      "metadata": {
        "id": "X1ucpm6JCi00",
        "outputId": "2bad0ca8-4fba-4522-b960-d621f8b88366",
        "colab": {
          "base_uri": "https://localhost:8080/",
          "height": 34
        }
      },
      "execution_count": null,
      "outputs": [
        {
          "output_type": "execute_result",
          "data": {
            "text/plain": [
              "'Kanyon'"
            ],
            "application/vnd.google.colaboratory.intrinsic+json": {
              "type": "string"
            }
          },
          "metadata": {},
          "execution_count": 51
        }
      ]
    },
    {
      "cell_type": "markdown",
      "source": [
        "# Scatter"
      ],
      "metadata": {
        "id": "JxNZGNqd7ZG-"
      }
    },
    {
      "cell_type": "markdown",
      "source": [
        "## Is there a trend in Avg VS Price?"
      ],
      "metadata": {
        "id": "w9ALwx4aDPrl"
      }
    },
    {
      "cell_type": "code",
      "source": [
        "plt.scatter(shopping_data['age'] ,shopping_data['price'] , alpha=0.05) # alpha คือ ทำให้โปร่งใส"
      ],
      "metadata": {
        "id": "67RaOws7Ddln",
        "outputId": "24fd21b8-1941-46a3-bdf2-7a4a472b3378",
        "colab": {
          "base_uri": "https://localhost:8080/",
          "height": 447
        }
      },
      "execution_count": null,
      "outputs": [
        {
          "output_type": "execute_result",
          "data": {
            "text/plain": [
              "<matplotlib.collections.PathCollection at 0x7fddad93eec0>"
            ]
          },
          "metadata": {},
          "execution_count": 52
        },
        {
          "output_type": "display_data",
          "data": {
            "text/plain": [
              "<Figure size 640x480 with 1 Axes>"
            ],
            "image/png": "[encoded data removed]"
          },
          "metadata": {}
        }
      ]
    },
    {
      "cell_type": "markdown",
      "source": [
        "## Is there a trend Avg VS quantity?\n",
        "\n",
        "\n"
      ],
      "metadata": {
        "id": "TR2VHGuCEKwI"
      }
    },
    {
      "cell_type": "code",
      "source": [
        "plt.scatter(shopping_data['age'] ,shopping_data['quantity'] , alpha=0.05)"
      ],
      "metadata": {
        "id": "gccYEnqAEn4f",
        "outputId": "ac1ae2a6-1c6c-4c26-972a-346eea5d5f5f",
        "colab": {
          "base_uri": "https://localhost:8080/",
          "height": 447
        }
      },
      "execution_count": null,
      "outputs": [
        {
          "output_type": "execute_result",
          "data": {
            "text/plain": [
              "<matplotlib.collections.PathCollection at 0x7fddad866b60>"
            ]
          },
          "metadata": {},
          "execution_count": 53
        },
        {
          "output_type": "display_data",
          "data": {
            "text/plain": [
              "<Figure size 640x480 with 1 Axes>"
            ],
            "image/png": "[encoded data removed]"
          },
          "metadata": {}
        }
      ]
    },
    {
      "cell_type": "markdown",
      "source": [
        "## Is there a trend price VS quantity?\n"
      ],
      "metadata": {
        "id": "yQ4PxUsBEtcV"
      }
    },
    {
      "cell_type": "code",
      "source": [
        "plt.scatter(shopping_data['price'] ,shopping_data['quantity'] , alpha=0.05)"
      ],
      "metadata": {
        "id": "5I5GBMrIE09X",
        "outputId": "56b89dfb-1e15-4089-99e7-b8d6c2fddf5f",
        "colab": {
          "base_uri": "https://localhost:8080/",
          "height": 447
        }
      },
      "execution_count": null,
      "outputs": [
        {
          "output_type": "execute_result",
          "data": {
            "text/plain": [
              "<matplotlib.collections.PathCollection at 0x7fddad80a3b0>"
            ]
          },
          "metadata": {},
          "execution_count": 54
        },
        {
          "output_type": "display_data",
          "data": {
            "text/plain": [
              "<Figure size 640x480 with 1 Axes>"
            ],
            "image/png": "[encoded data removed]"
          },
          "metadata": {}
        }
      ]
    },
    {
      "cell_type": "markdown",
      "source": [
        "\n",
        "# Box Plot"
      ],
      "metadata": {
        "id": "GBjPHA80F_dw"
      }
    },
    {
      "cell_type": "markdown",
      "source": [
        "### มี outliers ของ price กี่ตัว"
      ],
      "metadata": {
        "id": "Nm0H5FdIGFUL"
      }
    },
    {
      "cell_type": "code",
      "source": [
        "bpreturn = plt.boxplot(shopping_data['price'])"
      ],
      "metadata": {
        "id": "nttvBhtdGEwZ",
        "outputId": "86ec6e9b-ee38-49dc-fdd0-62277942e4b6",
        "colab": {
          "base_uri": "https://localhost:8080/",
          "height": 430
        }
      },
      "execution_count": 22,
      "outputs": [
        {
          "output_type": "display_data",
          "data": {
            "text/plain": [
              "<Figure size 640x480 with 1 Axes>"
            ],
            "image/png": "[encoded data removed]"
          },
          "metadata": {}
        }
      ]
    },
    {
      "cell_type": "code",
      "source": [
        "bpreturn['fliers']"
      ],
      "metadata": {
        "id": "_LWCkTQ4Ibpt",
        "outputId": "036fb067-3d7b-4c70-d0ce-2be47c5d3e6b",
        "colab": {
          "base_uri": "https://localhost:8080/"
        }
      },
      "execution_count": 24,
      "outputs": [
        {
          "output_type": "execute_result",
          "data": {
            "text/plain": [
              "[<matplotlib.lines.Line2D at 0x7abbf25d4bb0>]"
            ]
          },
          "metadata": {},
          "execution_count": 24
        }
      ]
    },
    {
      "cell_type": "code",
      "source": [
        "bpreturn['fliers'][0].get_ydata()"
      ],
      "metadata": {
        "id": "eX4bAuVtGiBD",
        "outputId": "f962fa90-9f1a-47fa-93e9-950ae47a463f",
        "colab": {
          "base_uri": "https://localhost:8080/"
        }
      },
      "execution_count": 25,
      "outputs": [
        {
          "output_type": "execute_result",
          "data": {
            "text/plain": [
              "array([3000.85, 3000.85, 5250.  , ..., 3150.  , 3150.  , 4200.  ])"
            ]
          },
          "metadata": {},
          "execution_count": 25
        }
      ]
    },
    {
      "cell_type": "code",
      "source": [
        "len(bpreturn['fliers'][0].get_ydata())"
      ],
      "metadata": {
        "id": "yHhuMjE3IY10",
        "outputId": "7fa1980e-84b5-4c41-94f7-ee0ed1194eda",
        "colab": {
          "base_uri": "https://localhost:8080/"
        }
      },
      "execution_count": 26,
      "outputs": [
        {
          "output_type": "execute_result",
          "data": {
            "text/plain": [
              "5024"
            ]
          },
          "metadata": {},
          "execution_count": 26
        }
      ]
    },
    {
      "cell_type": "markdown",
      "source": [
        "# Pie Chart"
      ],
      "metadata": {
        "id": "pn1o38Ou7S3g"
      }
    },
    {
      "cell_type": "markdown",
      "source": [
        "### ผญ หรือ ผช เป็นลูกค้ามากน้อยกว่ากัน"
      ],
      "metadata": {
        "id": "Rjq98LpXI2FI"
      }
    },
    {
      "cell_type": "code",
      "source": [
        "male = len(shopping_data[shopping_data['gender']=='Male'])\n",
        "female = len(shopping_data[shopping_data['gender']=='Female'])\n",
        "plt.pie([male,female],labels=['Male','Female']);"
      ],
      "metadata": {
        "id": "bp9xyC1pLyjd",
        "outputId": "99669358-4d6b-46db-bd60-1d1a785865e9",
        "colab": {
          "base_uri": "https://localhost:8080/",
          "height": 406
        }
      },
      "execution_count": 27,
      "outputs": [
        {
          "output_type": "display_data",
          "data": {
            "text/plain": [
              "<Figure size 640x480 with 1 Axes>"
            ],
            "image/png": "[encoded data removed]"
          },
          "metadata": {}
        }
      ]
    },
    {
      "cell_type": "markdown",
      "source": [
        "##Bar chart"
      ],
      "metadata": {
        "id": "fG4lyHtnLaY_"
      }
    },
    {
      "cell_type": "markdown",
      "source": [
        "###Stacked"
      ],
      "metadata": {
        "id": "oyO0ezTpLeid"
      }
    },
    {
      "cell_type": "markdown",
      "source": [
        "#### เปรียบเทียบสินค้าที่ซื้อในแต่ละ shopping mall แบบภาพรวมของแต่ละ shopping mall"
      ],
      "metadata": {
        "id": "hGQGe2kJMCnf"
      }
    },
    {
      "cell_type": "code",
      "source": [
        "set(shopping_data['category'])"
      ],
      "metadata": {
        "id": "_S-wflRbMS_n",
        "outputId": "51faf369-7bc4-4ef4-b2c7-5e540a1316c8",
        "colab": {
          "base_uri": "https://localhost:8080/"
        }
      },
      "execution_count": 28,
      "outputs": [
        {
          "output_type": "execute_result",
          "data": {
            "text/plain": [
              "{'Books',\n",
              " 'Clothing',\n",
              " 'Cosmetics',\n",
              " 'Food & Beverage',\n",
              " 'Shoes',\n",
              " 'Souvenir',\n",
              " 'Technology',\n",
              " 'Toys'}"
            ]
          },
          "metadata": {},
          "execution_count": 28
        }
      ]
    },
    {
      "cell_type": "code",
      "source": [
        "shopping_data.groupby(['shopping_mall' , 'category']) ['quantity'].sum()"
      ],
      "metadata": {
        "id": "x-473OXjNinB",
        "outputId": "fd642398-a30a-4255-acfc-89f61484e145",
        "colab": {
          "base_uri": "https://localhost:8080/"
        }
      },
      "execution_count": 29,
      "outputs": [
        {
          "output_type": "execute_result",
          "data": {
            "text/plain": [
              "shopping_mall  category       \n",
              "Cevahir AVM    Books               792\n",
              "               Clothing           5180\n",
              "               Cosmetics          2174\n",
              "               Food & Beverage    2293\n",
              "               Shoes              1473\n",
              "                                  ... \n",
              "Zorlu Center   Food & Beverage    2216\n",
              "               Shoes              1589\n",
              "               Souvenir            716\n",
              "               Technology          765\n",
              "               Toys               1526\n",
              "Name: quantity, Length: 80, dtype: int64"
            ]
          },
          "metadata": {},
          "execution_count": 29
        }
      ]
    },
    {
      "cell_type": "code",
      "source": [
        "bardata = shopping_data.groupby(['shopping_mall' , 'category']) ['quantity'].sum().unstack() #unstack ไม่ให้มัน group"
      ],
      "metadata": {
        "id": "HIZYpJRIPBGw"
      },
      "execution_count": 30,
      "outputs": []
    },
    {
      "cell_type": "code",
      "source": [
        "bardata['Books']"
      ],
      "metadata": {
        "id": "lkvtSnPQPSWg",
        "outputId": "fca5bf8e-41b9-4d1c-ac54-23bc743677cb",
        "colab": {
          "base_uri": "https://localhost:8080/"
        }
      },
      "execution_count": 31,
      "outputs": [
        {
          "output_type": "execute_result",
          "data": {
            "text/plain": [
              "shopping_mall\n",
              "Cevahir AVM           792\n",
              "Emaar Square Mall     730\n",
              "Forum Istanbul        756\n",
              "Istinye Park         1368\n",
              "Kanyon               2969\n",
              "Mall of Istanbul     3099\n",
              "Metrocity            2271\n",
              "Metropol AVM         1468\n",
              "Viaport Outlet        720\n",
              "Zorlu Center          809\n",
              "Name: Books, dtype: int64"
            ]
          },
          "metadata": {},
          "execution_count": 31
        }
      ]
    },
    {
      "cell_type": "code",
      "source": [
        "plt.bar([1,2,3,4,5,6,7,8,9,10],bardata['Books'],color='b',label='Books')\n",
        "plt.bar([1,2,3,4,5,6,7,8,9,10],bardata['Clothing'], bottom = bardata['Books'],color='g',label='Clothing')\n",
        "plt.bar([1,2,3,4,5,6,7,8,9,10],bardata['Cosmetics'], bottom = bardata['Books']+bardata['Clothing'],color='y',label='Cosmetics')\n",
        "plt.xticks([1,2,3,4,5,6,7,8,9,10],bardata.reset_index()['shopping_mall'],rotation=270)\n",
        "plt.grid(True,axis='y')\n",
        "plt.legend();"
      ],
      "metadata": {
        "id": "eGrDRr7nP31f",
        "outputId": "c0c839ca-465e-4d15-bfcf-e42710d5224d",
        "colab": {
          "base_uri": "https://localhost:8080/",
          "height": 547
        }
      },
      "execution_count": 32,
      "outputs": [
        {
          "output_type": "display_data",
          "data": {
            "text/plain": [
              "<Figure size 640x480 with 1 Axes>"
            ],
            "image/png": "[encoded data removed]"
          },
          "metadata": {}
        }
      ]
    },
    {
      "cell_type": "markdown",
      "source": [
        "### Grouped"
      ],
      "metadata": {
        "id": "omRIzH74R0Na"
      }
    },
    {
      "cell_type": "markdown",
      "source": [
        "#### เปรียบเทียบปริมาณชนิดสินค้าที่ซื้อในแต่ละ shopping mall เป็นราย shopping mall (ระหว่าง book vs Souvenir )"
      ],
      "metadata": {
        "id": "FxAmgHEzSHrT"
      }
    },
    {
      "cell_type": "markdown",
      "source": [
        "####**แบบต่อบนแท่งเดียวกัน**"
      ],
      "metadata": {
        "id": "OJVuqBfV02t9"
      }
    },
    {
      "cell_type": "code",
      "source": [
        "width = 0.2\n",
        "\n",
        "plt.bar([1,2,3,4,5,6,7,8,9,10],bardata['Books'],width,color='b',label='Books')\n",
        "plt.bar([1,2,3,4,5,6,7,8,9,10],bardata['Clothing'], bottom = bardata['Books'],color='g',label='Clothing')\n",
        "plt.bar([1,2,3,4,5,6,7,8,9,10],bardata['Cosmetics'], bottom = bardata['Books']+bardata['Clothing'],color='y',label='Cosmetics')\n",
        "plt.xticks([1,2,3,4,5,6,7,8,9,10],bardata.reset_index()['shopping_mall'],rotation=270)\n",
        "plt.grid(True,axis='y')\n",
        "plt.legend();"
      ],
      "metadata": {
        "id": "FvF_Vl-NS6Tu",
        "outputId": "e6ed3176-7bd4-4fc9-c0aa-740bccd94a27",
        "colab": {
          "base_uri": "https://localhost:8080/",
          "height": 547
        }
      },
      "execution_count": 33,
      "outputs": [
        {
          "output_type": "display_data",
          "data": {
            "text/plain": [
              "<Figure size 640x480 with 1 Axes>"
            ],
            "image/png": "[encoded data removed]"
          },
          "metadata": {}
        }
      ]
    },
    {
      "cell_type": "markdown",
      "source": [
        "#### **แบบต่อแท่ง Bar ข้างๆกัน**"
      ],
      "metadata": {
        "id": "GyxWTUPI1Bwk"
      }
    },
    {
      "cell_type": "code",
      "source": [
        "#### 1 bar ####\n",
        "width = 0.2\n",
        "\n",
        "plt.bar([1,2,3,4,5,6,7,8,9,10],bardata['Books'],width,color='b',label='Books')\n",
        "\n",
        "plt.xticks([1,2,3,4,5,6,7,8,9,10], bardata.reset_index()['shopping_mall'],rotation=270)\n",
        "plt.legend();\n",
        "\n",
        "\n",
        "\n"
      ],
      "metadata": {
        "id": "FNiYEdsm1BQw",
        "outputId": "0b393cf5-2f57-4a13-83ef-a59c28068107",
        "colab": {
          "base_uri": "https://localhost:8080/",
          "height": 547
        }
      },
      "execution_count": 34,
      "outputs": [
        {
          "output_type": "display_data",
          "data": {
            "text/plain": [
              "<Figure size 640x480 with 1 Axes>"
            ],
            "image/png": "[encoded data removed]"
          },
          "metadata": {}
        }
      ]
    },
    {
      "cell_type": "code",
      "source": [
        " ##### 2 bars\n",
        "width = 0.2\n",
        "\n",
        "plt.bar([1-width/2,2-width/2,3-width/2,4-width/2,5-width/2,6-width/2,7-width/2,8-width/2,9-width/2,10-width/2]\n",
        "        ,bardata['Books'],width,color='b',label='Books')\n",
        "\n",
        "plt.bar([1+width/2,2+width/2,3+width/2,4+width/2,5+width/2,6+width/2,7+width/2,8+width/2,9+width/2,10+width/2]\n",
        "        ,bardata['Souvenir'],width,color='r',label='Souvenir')\n",
        "\n",
        "plt.xticks([1,2,3,4,5,6,7,8,9,10], bardata.reset_index()['shopping_mall'],rotation=270)\n",
        "plt.legend();\n"
      ],
      "metadata": {
        "id": "NuFveBNe268_",
        "outputId": "a1cd1ba3-dff2-442e-9562-6488c2059fea",
        "colab": {
          "base_uri": "https://localhost:8080/",
          "height": 547
        }
      },
      "execution_count": 38,
      "outputs": [
        {
          "output_type": "display_data",
          "data": {
            "text/plain": [
              "<Figure size 640x480 with 1 Axes>"
            ],
            "image/png": "[encoded data removed]"
          },
          "metadata": {}
        }
      ]
    },
    {
      "cell_type": "code",
      "source": [
        "##### 3 bars (ลองใส่ width/2 เหมือน 2 bars แล้วแท่งซ้อนกัน)\n",
        "width = 0.2\n",
        "plt.bar([1,2,3,4,5,6,7,8,9,10]\n",
        "        ,bardata['Technology'],width,color='g',label='Technology')\n",
        "plt.bar([1-width,2-width,3-width,4-width,5-width,6-width,7-width,8-width,9-width,10-width]\n",
        "        ,bardata['Books'],width,color='b',label='Books')\n",
        "plt.bar([1+width,2+width,3+width,4+width,5+width,6+width,7+width,8+width,9+width,10+width]\n",
        "        ,bardata['Souvenir'],width,color='r',label='Souvenir')\n",
        "plt.xticks([1,2,3,4,5,6,7,8,9,10], bardata.reset_index()['shopping_mall'],rotation=270)\n",
        "plt.legend();"
      ],
      "metadata": {
        "id": "bGMlKasT41u4"
      },
      "execution_count": null,
      "outputs": []
    },
    {
      "cell_type": "markdown",
      "source": [
        "#Distance - Similarity"
      ],
      "metadata": {
        "id": "4ruSoz99Bssi"
      }
    },
    {
      "cell_type": "code",
      "source": [
        "from scipy.spatial import distance_matrix"
      ],
      "metadata": {
        "id": "uvEdJYVI5Qas"
      },
      "execution_count": 39,
      "outputs": []
    },
    {
      "cell_type": "code",
      "source": [
        "import numpy as np"
      ],
      "metadata": {
        "id": "GJZ4qXt7YDpn"
      },
      "execution_count": 40,
      "outputs": []
    },
    {
      "cell_type": "code",
      "source": [
        "data_points = np.array([[1,2],[-1,4],[0,-3],[-3,-2]])"
      ],
      "metadata": {
        "id": "kl_LJHcI5Ujj"
      },
      "execution_count": 41,
      "outputs": []
    },
    {
      "cell_type": "code",
      "source": [
        "data_points"
      ],
      "metadata": {
        "id": "fHbf3Kuh5WMg",
        "outputId": "b18fcba3-9dc8-4155-e069-8a3a97aad86b",
        "colab": {
          "base_uri": "https://localhost:8080/"
        }
      },
      "execution_count": 42,
      "outputs": [
        {
          "output_type": "execute_result",
          "data": {
            "text/plain": [
              "array([[ 1,  2],\n",
              "       [-1,  4],\n",
              "       [ 0, -3],\n",
              "       [-3, -2]])"
            ]
          },
          "metadata": {},
          "execution_count": 42
        }
      ]
    },
    {
      "cell_type": "code",
      "source": [
        "plt.scatter(data_points[:,0],data_points[:,1])\n",
        "plt.grid(True)"
      ],
      "metadata": {
        "id": "u4GrxOWM5X2F",
        "outputId": "a69b40af-354a-4dab-dd2d-d6f0dce79b4b",
        "colab": {
          "base_uri": "https://localhost:8080/",
          "height": 430
        }
      },
      "execution_count": 43,
      "outputs": [
        {
          "output_type": "display_data",
          "data": {
            "text/plain": [
              "<Figure size 640x480 with 1 Axes>"
            ],
            "image/png": "[encoded data removed]"
          },
          "metadata": {}
        }
      ]
    },
    {
      "cell_type": "code",
      "source": [
        "distance_matrix(data_points,data_points) # default p=2 Euclidean distance"
      ],
      "metadata": {
        "id": "L72ZUaOD5eH8",
        "outputId": "a328aaff-feb1-4167-832b-5b9b283ebbd3",
        "colab": {
          "base_uri": "https://localhost:8080/"
        }
      },
      "execution_count": 44,
      "outputs": [
        {
          "output_type": "execute_result",
          "data": {
            "text/plain": [
              "array([[0.        , 2.82842712, 5.09901951, 5.65685425],\n",
              "       [2.82842712, 0.        , 7.07106781, 6.32455532],\n",
              "       [5.09901951, 7.07106781, 0.        , 3.16227766],\n",
              "       [5.65685425, 6.32455532, 3.16227766, 0.        ]])"
            ]
          },
          "metadata": {},
          "execution_count": 44
        }
      ]
    },
    {
      "cell_type": "code",
      "source": [
        "distance_matrix(data_points,data_points,p=1) # p=1 City block distance"
      ],
      "metadata": {
        "id": "VChUQNI25fV-",
        "outputId": "0320173a-7935-42e4-b026-f061470fc135",
        "colab": {
          "base_uri": "https://localhost:8080/"
        }
      },
      "execution_count": 45,
      "outputs": [
        {
          "output_type": "execute_result",
          "data": {
            "text/plain": [
              "array([[0., 4., 6., 8.],\n",
              "       [4., 0., 8., 8.],\n",
              "       [6., 8., 0., 4.],\n",
              "       [8., 8., 4., 0.]])"
            ]
          },
          "metadata": {},
          "execution_count": 45
        }
      ]
    },
    {
      "cell_type": "markdown",
      "source": [
        "##Z - Score\n"
      ],
      "metadata": {
        "id": "rFAUXB5kB0gq"
      }
    },
    {
      "cell_type": "markdown",
      "source": [
        "### normalization"
      ],
      "metadata": {
        "id": "Rh6nIJpc5vfS"
      }
    }
  ]
}